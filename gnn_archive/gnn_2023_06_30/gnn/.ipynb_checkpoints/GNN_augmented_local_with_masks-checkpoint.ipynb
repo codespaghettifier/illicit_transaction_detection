{
 "cells": [
  {
   "cell_type": "code",
   "execution_count": 1,
   "metadata": {
    "colab": {
     "base_uri": "https://localhost:8080/"
    },
    "id": "-iD3w-5pR6H_",
    "outputId": "17230612-5f4f-40a8-b7b4-232eef6c119f"
   },
   "outputs": [],
   "source": [
    "# !pip install torch_geometric\n"
   ]
  },
  {
   "cell_type": "code",
   "execution_count": 24,
   "metadata": {
    "id": "SuPcEnbASIyU"
   },
   "outputs": [],
   "source": [
    "import numpy as np\n",
    "import pandas as pd\n",
    "import matplotlib.pyplot as plt\n",
    "import os\n",
    "\n",
    "import torch\n",
    "import torch_geometric\n",
    "import torch.nn\n",
    "import torch.nn.functional as F\n",
    "import torch.optim as optim\n",
    "from torch.nn import Linear, LayerNorm, ReLU, Dropout\n",
    "from torch_geometric.nn import ChebConv, NNConv, DeepGCNLayer, GATConv, DenseGCNConv, GCNConv, GraphConv, MessagePassing\n",
    "from torch_geometric.data import Data, DataLoader\n",
    "from torch_geometric.utils import add_self_loops, degree\n",
    "import torch_geometric.transforms as T\n",
    "\n",
    "\n",
    "from sklearn.metrics import roc_auc_score\n",
    "import scipy.sparse as sp\n",
    "\n",
    "import warnings\n",
    "warnings.filterwarnings(\"ignore\")"
   ]
  },
  {
   "cell_type": "code",
   "execution_count": 25,
   "metadata": {},
   "outputs": [
    {
     "name": "stdout",
     "output_type": "stream",
     "text": [
      "1.12.1\n"
     ]
    }
   ],
   "source": [
    "print(torch.__version__)"
   ]
  },
  {
   "cell_type": "code",
   "execution_count": 26,
   "metadata": {
    "colab": {
     "base_uri": "https://localhost:8080/"
    },
    "id": "eyOI5T-TSK7z",
    "outputId": "33932a3d-790f-4293-88f5-0ad9aef71f77"
   },
   "outputs": [
    {
     "name": "stdout",
     "output_type": "stream",
     "text": [
      "cpu\n"
     ]
    }
   ],
   "source": [
    "device = torch.device(\"cuda:0\") if torch.cuda.is_available() else torch.device(\"cpu\")\n",
    "print(device)\n"
   ]
  },
  {
   "cell_type": "code",
   "execution_count": 27,
   "metadata": {},
   "outputs": [],
   "source": [
    "# datasets_folder = '/content/drive/MyDrive/Colab Notebooks/ssn/projekt/datasets/elliptic_augmented_dataset/'\n",
    "datasets_folder = '../datasets/elliptic_augmented_dataset/'"
   ]
  },
  {
   "cell_type": "code",
   "execution_count": null,
   "metadata": {},
   "outputs": [],
   "source": []
  },
  {
   "cell_type": "code",
   "execution_count": 28,
   "metadata": {},
   "outputs": [],
   "source": [
    "def split_edges_into_train_and_test(edges_dataframe, node_features_with_class):\n",
    "    edges_amount = len(edges_dataframe)\n",
    "    step = int(edges_amount * 0.02)    \n",
    "\n",
    "    train_edges = [] # edges which have both nodes labeled.\n",
    "    test_edges = []  # edges which have both nodes unlabeled.\n",
    "    \n",
    "    # this may take a long time\n",
    "    for i, edge in enumerate(np.array(edges_dataframe)):\n",
    "        if i % step == 0:\n",
    "            print(f'{ round(i/ edges_amount * 100)}%')\n",
    "            \n",
    "        found_start_node = node_features_with_class[node_features_with_class[0] == edge[0]]\n",
    "        \n",
    "        #ignore edges for which a node does not exist (this happened once)\n",
    "        if len(found_start_node) == 0: continue\n",
    "            \n",
    "        found_end_node = node_features_with_class[node_features_with_class[0] == edge[1]]\n",
    "        if len(found_end_node) == 0: continue\n",
    "            \n",
    "        if found_start_node.values[0, -1] != 2 and found_end_node.values[0, -1] != 2:\n",
    "            train_edges.append(edge)\n",
    "            continue\n",
    "        \n",
    "        if found_start_node.values[0, -1] == 2 and found_end_node.values[0, -1] == 2:\n",
    "            test_edges.append(edge)\n",
    "            continue\n",
    "          \n",
    "        # if found_start_node.values[0, -1] == 2:\n",
    "        #   test_edges.append(edge)\n",
    "        #   continue\n",
    "        \n",
    "        # if found_end_node.values[0, -1] == 2:\n",
    "        #   test_edges.append(edge)\n",
    "        # else:\n",
    "        #   train_edges.append(edge)\n",
    "          \n",
    "    train_edges = pd.DataFrame(train_edges)\n",
    "    test_edges = pd.DataFrame(test_edges)\n",
    "    return train_edges, test_edges"
   ]
  },
  {
   "cell_type": "code",
   "execution_count": 29,
   "metadata": {},
   "outputs": [],
   "source": [
    "# This will read from cached files if they exist. If you change the code, delete the cached files.\n",
    "def split_edges_into_train_and_test_IO(datasets_folder):\n",
    "    train_edges_filepath = datasets_folder + 'train_edges.csv'\n",
    "    test_edges_filepath = datasets_folder + 'test_edges.csv'\n",
    "    \n",
    "    train_edges = [] # edges which have both nodes labeled.\n",
    "    test_edges = [] # edges which one or both nodes are unlabeled.\n",
    "    if os.path.isfile(train_edges_filepath) and os.path.isfile(test_edges_filepath):\n",
    "        train_edges = pd.read_csv(train_edges_filepath, sep=',').drop(columns=['Unnamed: 0']).rename(columns = {'0': 0, '1':1})\n",
    "        test_edges = pd.read_csv(test_edges_filepath, sep=',').drop(columns=['Unnamed: 0']).rename(columns = {'0': 0, '1':1})\n",
    "        \n",
    "    else:\n",
    "        edges_filepath = datasets_folder + 'elliptic_txs_edgelist.csv'\n",
    "        edges_dataframe = pd.read_csv(edges_filepath, sep=',')\n",
    "        train_edges, test_edges = split_edges_into_train_and_test(edges_dataframe, node_features_dataframe_with_class_without_timestep)\n",
    "        \n",
    "        # save the train_edges and test_edges to file so that the expensive split does not have to run every time.\n",
    "        train_edges.to_csv(train_edges_filepath)\n",
    "        test_edges.to_csv(test_edges_filepath)\n",
    "    \n",
    "    return train_edges, test_edges"
   ]
  },
  {
   "cell_type": "code",
   "execution_count": 30,
   "metadata": {},
   "outputs": [
    {
     "name": "stdout",
     "output_type": "stream",
     "text": [
      "0%\n",
      "2%\n",
      "4%\n",
      "6%\n",
      "8%\n",
      "10%\n",
      "12%\n",
      "14%\n",
      "16%\n",
      "18%\n",
      "20%\n",
      "22%\n",
      "24%\n",
      "26%\n",
      "28%\n",
      "30%\n",
      "32%\n",
      "34%\n",
      "36%\n",
      "38%\n",
      "40%\n",
      "42%\n",
      "44%\n",
      "46%\n",
      "48%\n",
      "50%\n",
      "52%\n",
      "54%\n",
      "56%\n",
      "58%\n",
      "60%\n",
      "62%\n",
      "64%\n",
      "66%\n",
      "68%\n",
      "70%\n",
      "72%\n",
      "74%\n",
      "76%\n",
      "78%\n",
      "80%\n",
      "82%\n",
      "84%\n",
      "86%\n",
      "88%\n",
      "90%\n",
      "92%\n",
      "94%\n",
      "96%\n",
      "98%\n",
      "100%\n",
      "36633\n",
      "131778\n"
     ]
    },
    {
     "data": {
      "text/html": [
       "<div>\n",
       "<style scoped>\n",
       "    .dataframe tbody tr th:only-of-type {\n",
       "        vertical-align: middle;\n",
       "    }\n",
       "\n",
       "    .dataframe tbody tr th {\n",
       "        vertical-align: top;\n",
       "    }\n",
       "\n",
       "    .dataframe thead th {\n",
       "        text-align: right;\n",
       "    }\n",
       "</style>\n",
       "<table border=\"1\" class=\"dataframe\">\n",
       "  <thead>\n",
       "    <tr style=\"text-align: right;\">\n",
       "      <th></th>\n",
       "      <th>0</th>\n",
       "      <th>1</th>\n",
       "    </tr>\n",
       "  </thead>\n",
       "  <tbody>\n",
       "    <tr>\n",
       "      <th>0</th>\n",
       "      <td>232344069</td>\n",
       "      <td>27553029</td>\n",
       "    </tr>\n",
       "    <tr>\n",
       "      <th>1</th>\n",
       "      <td>3881097</td>\n",
       "      <td>232457116</td>\n",
       "    </tr>\n",
       "    <tr>\n",
       "      <th>2</th>\n",
       "      <td>232051089</td>\n",
       "      <td>232470704</td>\n",
       "    </tr>\n",
       "    <tr>\n",
       "      <th>3</th>\n",
       "      <td>230473487</td>\n",
       "      <td>7089694</td>\n",
       "    </tr>\n",
       "    <tr>\n",
       "      <th>4</th>\n",
       "      <td>231182296</td>\n",
       "      <td>14660781</td>\n",
       "    </tr>\n",
       "    <tr>\n",
       "      <th>...</th>\n",
       "      <td>...</td>\n",
       "      <td>...</td>\n",
       "    </tr>\n",
       "    <tr>\n",
       "      <th>36628</th>\n",
       "      <td>-335492958</td>\n",
       "      <td>336712245</td>\n",
       "    </tr>\n",
       "    <tr>\n",
       "      <th>36629</th>\n",
       "      <td>-16565051</td>\n",
       "      <td>21440143</td>\n",
       "    </tr>\n",
       "    <tr>\n",
       "      <th>36630</th>\n",
       "      <td>-335493020</td>\n",
       "      <td>336712245</td>\n",
       "    </tr>\n",
       "    <tr>\n",
       "      <th>36631</th>\n",
       "      <td>-335493021</td>\n",
       "      <td>336712245</td>\n",
       "    </tr>\n",
       "    <tr>\n",
       "      <th>36632</th>\n",
       "      <td>-11300494</td>\n",
       "      <td>94174202</td>\n",
       "    </tr>\n",
       "  </tbody>\n",
       "</table>\n",
       "<p>36633 rows × 2 columns</p>\n",
       "</div>"
      ],
      "text/plain": [
       "               0          1\n",
       "0      232344069   27553029\n",
       "1        3881097  232457116\n",
       "2      232051089  232470704\n",
       "3      230473487    7089694\n",
       "4      231182296   14660781\n",
       "...          ...        ...\n",
       "36628 -335492958  336712245\n",
       "36629  -16565051   21440143\n",
       "36630 -335493020  336712245\n",
       "36631 -335493021  336712245\n",
       "36632  -11300494   94174202\n",
       "\n",
       "[36633 rows x 2 columns]"
      ]
     },
     "execution_count": 30,
     "metadata": {},
     "output_type": "execute_result"
    }
   ],
   "source": [
    "train_edges, test_edges = split_edges_into_train_and_test_IO(datasets_folder)\n",
    "print(len(train_edges))\n",
    "print(len(test_edges))\n",
    "train_edges"
   ]
  },
  {
   "cell_type": "code",
   "execution_count": 33,
   "metadata": {
    "colab": {
     "base_uri": "https://localhost:8080/",
     "height": 419
    },
    "id": "Vd3GB0YrSLMk",
    "outputId": "1fa36373-defc-445c-8fb4-70f6514c6ae0"
   },
   "outputs": [
    {
     "data": {
      "text/html": [
       "<div>\n",
       "<style scoped>\n",
       "    .dataframe tbody tr th:only-of-type {\n",
       "        vertical-align: middle;\n",
       "    }\n",
       "\n",
       "    .dataframe tbody tr th {\n",
       "        vertical-align: top;\n",
       "    }\n",
       "\n",
       "    .dataframe thead th {\n",
       "        text-align: right;\n",
       "    }\n",
       "</style>\n",
       "<table border=\"1\" class=\"dataframe\">\n",
       "  <thead>\n",
       "    <tr style=\"text-align: right;\">\n",
       "      <th></th>\n",
       "      <th>txId</th>\n",
       "      <th>class</th>\n",
       "    </tr>\n",
       "  </thead>\n",
       "  <tbody>\n",
       "    <tr>\n",
       "      <th>0</th>\n",
       "      <td>230425980</td>\n",
       "      <td>unknown</td>\n",
       "    </tr>\n",
       "    <tr>\n",
       "      <th>1</th>\n",
       "      <td>5530458</td>\n",
       "      <td>unknown</td>\n",
       "    </tr>\n",
       "    <tr>\n",
       "      <th>2</th>\n",
       "      <td>232022460</td>\n",
       "      <td>unknown</td>\n",
       "    </tr>\n",
       "    <tr>\n",
       "      <th>3</th>\n",
       "      <td>232438397</td>\n",
       "      <td>2</td>\n",
       "    </tr>\n",
       "    <tr>\n",
       "      <th>4</th>\n",
       "      <td>230460314</td>\n",
       "      <td>unknown</td>\n",
       "    </tr>\n",
       "    <tr>\n",
       "      <th>...</th>\n",
       "      <td>...</td>\n",
       "      <td>...</td>\n",
       "    </tr>\n",
       "    <tr>\n",
       "      <th>276700</th>\n",
       "      <td>-80255194</td>\n",
       "      <td>unknown</td>\n",
       "    </tr>\n",
       "    <tr>\n",
       "      <th>276701</th>\n",
       "      <td>-229310245</td>\n",
       "      <td>suspicious</td>\n",
       "    </tr>\n",
       "    <tr>\n",
       "      <th>276702</th>\n",
       "      <td>-223754303</td>\n",
       "      <td>unknown</td>\n",
       "    </tr>\n",
       "    <tr>\n",
       "      <th>276703</th>\n",
       "      <td>-625924180</td>\n",
       "      <td>suspicious</td>\n",
       "    </tr>\n",
       "    <tr>\n",
       "      <th>276704</th>\n",
       "      <td>-638686123</td>\n",
       "      <td>unknown</td>\n",
       "    </tr>\n",
       "  </tbody>\n",
       "</table>\n",
       "<p>276705 rows × 2 columns</p>\n",
       "</div>"
      ],
      "text/plain": [
       "             txId       class\n",
       "0       230425980     unknown\n",
       "1         5530458     unknown\n",
       "2       232022460     unknown\n",
       "3       232438397           2\n",
       "4       230460314     unknown\n",
       "...           ...         ...\n",
       "276700  -80255194     unknown\n",
       "276701 -229310245  suspicious\n",
       "276702 -223754303     unknown\n",
       "276703 -625924180  suspicious\n",
       "276704 -638686123     unknown\n",
       "\n",
       "[276705 rows x 2 columns]"
      ]
     },
     "execution_count": 33,
     "metadata": {},
     "output_type": "execute_result"
    }
   ],
   "source": [
    "classes_filepath = datasets_folder + 'elliptic_txs_classes.csv'\n",
    "classes_dataframe = pd.read_csv(classes_filepath, sep=',')\n",
    "classes_dataframe"
   ]
  },
  {
   "cell_type": "code",
   "execution_count": 34,
   "metadata": {
    "id": "r2eFNMdvTM7_"
   },
   "outputs": [],
   "source": [
    "# initially 2 is licit, 1 is illicit, suspicious is also illicit, unknown is unknown\n",
    "# after remapping 0 is illicit, 1 is licit, 2 is unknown\n",
    "# rows with class 0 and 1 will be used for training\n",
    "# rows with class 2 will be used for prediction\n",
    "\n",
    "def remap_label(label):\n",
    "  if label == '1': return 0\n",
    "  if label == 'suspicious': return 0\n",
    "  if label == '2': return 1\n",
    "  return 2"
   ]
  },
  {
   "cell_type": "code",
   "execution_count": 35,
   "metadata": {
    "colab": {
     "base_uri": "https://localhost:8080/",
     "height": 419
    },
    "id": "B-gBA0omSkGn",
    "outputId": "19604d87-7d4e-411b-cfa6-db8f72419158"
   },
   "outputs": [
    {
     "data": {
      "text/html": [
       "<div>\n",
       "<style scoped>\n",
       "    .dataframe tbody tr th:only-of-type {\n",
       "        vertical-align: middle;\n",
       "    }\n",
       "\n",
       "    .dataframe tbody tr th {\n",
       "        vertical-align: top;\n",
       "    }\n",
       "\n",
       "    .dataframe thead th {\n",
       "        text-align: right;\n",
       "    }\n",
       "</style>\n",
       "<table border=\"1\" class=\"dataframe\">\n",
       "  <thead>\n",
       "    <tr style=\"text-align: right;\">\n",
       "      <th></th>\n",
       "      <th>txId</th>\n",
       "      <th>class</th>\n",
       "    </tr>\n",
       "  </thead>\n",
       "  <tbody>\n",
       "    <tr>\n",
       "      <th>0</th>\n",
       "      <td>230425980</td>\n",
       "      <td>2</td>\n",
       "    </tr>\n",
       "    <tr>\n",
       "      <th>1</th>\n",
       "      <td>5530458</td>\n",
       "      <td>2</td>\n",
       "    </tr>\n",
       "    <tr>\n",
       "      <th>2</th>\n",
       "      <td>232022460</td>\n",
       "      <td>2</td>\n",
       "    </tr>\n",
       "    <tr>\n",
       "      <th>3</th>\n",
       "      <td>232438397</td>\n",
       "      <td>1</td>\n",
       "    </tr>\n",
       "    <tr>\n",
       "      <th>4</th>\n",
       "      <td>230460314</td>\n",
       "      <td>2</td>\n",
       "    </tr>\n",
       "    <tr>\n",
       "      <th>...</th>\n",
       "      <td>...</td>\n",
       "      <td>...</td>\n",
       "    </tr>\n",
       "    <tr>\n",
       "      <th>276700</th>\n",
       "      <td>-80255194</td>\n",
       "      <td>2</td>\n",
       "    </tr>\n",
       "    <tr>\n",
       "      <th>276701</th>\n",
       "      <td>-229310245</td>\n",
       "      <td>0</td>\n",
       "    </tr>\n",
       "    <tr>\n",
       "      <th>276702</th>\n",
       "      <td>-223754303</td>\n",
       "      <td>2</td>\n",
       "    </tr>\n",
       "    <tr>\n",
       "      <th>276703</th>\n",
       "      <td>-625924180</td>\n",
       "      <td>0</td>\n",
       "    </tr>\n",
       "    <tr>\n",
       "      <th>276704</th>\n",
       "      <td>-638686123</td>\n",
       "      <td>2</td>\n",
       "    </tr>\n",
       "  </tbody>\n",
       "</table>\n",
       "<p>276705 rows × 2 columns</p>\n",
       "</div>"
      ],
      "text/plain": [
       "             txId  class\n",
       "0       230425980      2\n",
       "1         5530458      2\n",
       "2       232022460      2\n",
       "3       232438397      1\n",
       "4       230460314      2\n",
       "...           ...    ...\n",
       "276700  -80255194      2\n",
       "276701 -229310245      0\n",
       "276702 -223754303      2\n",
       "276703 -625924180      0\n",
       "276704 -638686123      2\n",
       "\n",
       "[276705 rows x 2 columns]"
      ]
     },
     "execution_count": 35,
     "metadata": {},
     "output_type": "execute_result"
    }
   ],
   "source": [
    "classes_dataframe_after_remap = classes_dataframe.copy()\n",
    "classes_dataframe_after_remap['class'] = classes_dataframe['class'].map(remap_label)\n",
    "classes_dataframe_after_remap"
   ]
  },
  {
   "cell_type": "code",
   "execution_count": 36,
   "metadata": {
    "colab": {
     "base_uri": "https://localhost:8080/",
     "height": 419
    },
    "id": "HrXrOogCT8_k",
    "outputId": "d03f26db-cfa7-43b3-cf6a-c7d453eb19a1"
   },
   "outputs": [
    {
     "data": {
      "text/html": [
       "<div>\n",
       "<style scoped>\n",
       "    .dataframe tbody tr th:only-of-type {\n",
       "        vertical-align: middle;\n",
       "    }\n",
       "\n",
       "    .dataframe tbody tr th {\n",
       "        vertical-align: top;\n",
       "    }\n",
       "\n",
       "    .dataframe thead th {\n",
       "        text-align: right;\n",
       "    }\n",
       "</style>\n",
       "<table border=\"1\" class=\"dataframe\">\n",
       "  <thead>\n",
       "    <tr style=\"text-align: right;\">\n",
       "      <th></th>\n",
       "      <th>0</th>\n",
       "      <th>2</th>\n",
       "      <th>3</th>\n",
       "      <th>4</th>\n",
       "      <th>5</th>\n",
       "      <th>6</th>\n",
       "      <th>7</th>\n",
       "      <th>8</th>\n",
       "      <th>9</th>\n",
       "      <th>10</th>\n",
       "      <th>...</th>\n",
       "      <th>158</th>\n",
       "      <th>159</th>\n",
       "      <th>160</th>\n",
       "      <th>161</th>\n",
       "      <th>162</th>\n",
       "      <th>163</th>\n",
       "      <th>164</th>\n",
       "      <th>165</th>\n",
       "      <th>166</th>\n",
       "      <th>class</th>\n",
       "    </tr>\n",
       "  </thead>\n",
       "  <tbody>\n",
       "    <tr>\n",
       "      <th>0</th>\n",
       "      <td>230425980</td>\n",
       "      <td>-0.056189</td>\n",
       "      <td>-0.175567</td>\n",
       "      <td>-1.185821</td>\n",
       "      <td>-0.186390</td>\n",
       "      <td>-0.046514</td>\n",
       "      <td>-0.167505</td>\n",
       "      <td>-0.101009</td>\n",
       "      <td>-0.133295</td>\n",
       "      <td>-0.088508</td>\n",
       "      <td>...</td>\n",
       "      <td>-0.582752</td>\n",
       "      <td>1.442895</td>\n",
       "      <td>1.440189</td>\n",
       "      <td>0.003514</td>\n",
       "      <td>-0.092606</td>\n",
       "      <td>-0.135784</td>\n",
       "      <td>-0.101068</td>\n",
       "      <td>-0.102834</td>\n",
       "      <td>-0.102128</td>\n",
       "      <td>2</td>\n",
       "    </tr>\n",
       "    <tr>\n",
       "      <th>1</th>\n",
       "      <td>5530458</td>\n",
       "      <td>-0.056193</td>\n",
       "      <td>-0.175567</td>\n",
       "      <td>-1.185821</td>\n",
       "      <td>-0.186390</td>\n",
       "      <td>-0.046514</td>\n",
       "      <td>-0.167505</td>\n",
       "      <td>-0.101009</td>\n",
       "      <td>-0.133311</td>\n",
       "      <td>-0.088517</td>\n",
       "      <td>...</td>\n",
       "      <td>0.702410</td>\n",
       "      <td>-1.033609</td>\n",
       "      <td>-1.032884</td>\n",
       "      <td>0.003514</td>\n",
       "      <td>-0.092606</td>\n",
       "      <td>-0.135784</td>\n",
       "      <td>-0.101068</td>\n",
       "      <td>-0.102834</td>\n",
       "      <td>-0.102128</td>\n",
       "      <td>2</td>\n",
       "    </tr>\n",
       "    <tr>\n",
       "      <th>2</th>\n",
       "      <td>232022460</td>\n",
       "      <td>-0.056378</td>\n",
       "      <td>-0.175567</td>\n",
       "      <td>-1.185821</td>\n",
       "      <td>-0.186390</td>\n",
       "      <td>-0.046514</td>\n",
       "      <td>-0.167505</td>\n",
       "      <td>-0.101009</td>\n",
       "      <td>-0.133972</td>\n",
       "      <td>-0.088883</td>\n",
       "      <td>...</td>\n",
       "      <td>0.467009</td>\n",
       "      <td>-1.033609</td>\n",
       "      <td>-1.032884</td>\n",
       "      <td>-0.106566</td>\n",
       "      <td>-0.113936</td>\n",
       "      <td>-0.135784</td>\n",
       "      <td>-0.186659</td>\n",
       "      <td>-0.102834</td>\n",
       "      <td>-0.102128</td>\n",
       "      <td>2</td>\n",
       "    </tr>\n",
       "    <tr>\n",
       "      <th>3</th>\n",
       "      <td>232438397</td>\n",
       "      <td>0.043005</td>\n",
       "      <td>0.743641</td>\n",
       "      <td>-0.644127</td>\n",
       "      <td>2.874647</td>\n",
       "      <td>-0.068726</td>\n",
       "      <td>2.304311</td>\n",
       "      <td>3.142835</td>\n",
       "      <td>-0.134902</td>\n",
       "      <td>-0.058112</td>\n",
       "      <td>...</td>\n",
       "      <td>-0.595477</td>\n",
       "      <td>0.204643</td>\n",
       "      <td>0.203652</td>\n",
       "      <td>0.994235</td>\n",
       "      <td>0.099367</td>\n",
       "      <td>-0.135784</td>\n",
       "      <td>0.669253</td>\n",
       "      <td>-0.102834</td>\n",
       "      <td>-0.102128</td>\n",
       "      <td>1</td>\n",
       "    </tr>\n",
       "    <tr>\n",
       "      <th>4</th>\n",
       "      <td>230460314</td>\n",
       "      <td>0.294595</td>\n",
       "      <td>-0.131268</td>\n",
       "      <td>-1.185821</td>\n",
       "      <td>0.125213</td>\n",
       "      <td>0.375512</td>\n",
       "      <td>0.188604</td>\n",
       "      <td>-0.101009</td>\n",
       "      <td>-0.134776</td>\n",
       "      <td>0.033618</td>\n",
       "      <td>...</td>\n",
       "      <td>-0.380435</td>\n",
       "      <td>0.484856</td>\n",
       "      <td>0.546219</td>\n",
       "      <td>0.003514</td>\n",
       "      <td>0.312670</td>\n",
       "      <td>0.369103</td>\n",
       "      <td>1.281230</td>\n",
       "      <td>0.201809</td>\n",
       "      <td>0.202687</td>\n",
       "      <td>2</td>\n",
       "    </tr>\n",
       "    <tr>\n",
       "      <th>...</th>\n",
       "      <td>...</td>\n",
       "      <td>...</td>\n",
       "      <td>...</td>\n",
       "      <td>...</td>\n",
       "      <td>...</td>\n",
       "      <td>...</td>\n",
       "      <td>...</td>\n",
       "      <td>...</td>\n",
       "      <td>...</td>\n",
       "      <td>...</td>\n",
       "      <td>...</td>\n",
       "      <td>...</td>\n",
       "      <td>...</td>\n",
       "      <td>...</td>\n",
       "      <td>...</td>\n",
       "      <td>...</td>\n",
       "      <td>...</td>\n",
       "      <td>...</td>\n",
       "      <td>...</td>\n",
       "      <td>...</td>\n",
       "      <td>...</td>\n",
       "    </tr>\n",
       "    <tr>\n",
       "      <th>276700</th>\n",
       "      <td>-80255194</td>\n",
       "      <td>-0.015471</td>\n",
       "      <td>0.043889</td>\n",
       "      <td>1.522650</td>\n",
       "      <td>-0.058083</td>\n",
       "      <td>-0.046514</td>\n",
       "      <td>-0.020871</td>\n",
       "      <td>-0.101009</td>\n",
       "      <td>-0.134902</td>\n",
       "      <td>-0.015154</td>\n",
       "      <td>...</td>\n",
       "      <td>-0.302816</td>\n",
       "      <td>1.442895</td>\n",
       "      <td>1.440189</td>\n",
       "      <td>0.003514</td>\n",
       "      <td>-0.092606</td>\n",
       "      <td>-0.135784</td>\n",
       "      <td>-0.101068</td>\n",
       "      <td>-0.102834</td>\n",
       "      <td>-0.102128</td>\n",
       "      <td>2</td>\n",
       "    </tr>\n",
       "    <tr>\n",
       "      <th>276701</th>\n",
       "      <td>-229310245</td>\n",
       "      <td>-0.056634</td>\n",
       "      <td>-0.141863</td>\n",
       "      <td>0.980956</td>\n",
       "      <td>-0.149731</td>\n",
       "      <td>-0.068726</td>\n",
       "      <td>-0.125609</td>\n",
       "      <td>-0.101009</td>\n",
       "      <td>-0.134903</td>\n",
       "      <td>-0.089391</td>\n",
       "      <td>...</td>\n",
       "      <td>-0.570028</td>\n",
       "      <td>0.204643</td>\n",
       "      <td>0.203652</td>\n",
       "      <td>-0.106566</td>\n",
       "      <td>-0.113936</td>\n",
       "      <td>-0.135784</td>\n",
       "      <td>-0.186659</td>\n",
       "      <td>-0.102834</td>\n",
       "      <td>-0.102128</td>\n",
       "      <td>0</td>\n",
       "    </tr>\n",
       "    <tr>\n",
       "      <th>276702</th>\n",
       "      <td>-223754303</td>\n",
       "      <td>-0.056336</td>\n",
       "      <td>-0.119014</td>\n",
       "      <td>0.980956</td>\n",
       "      <td>-0.149731</td>\n",
       "      <td>-0.068726</td>\n",
       "      <td>-0.125609</td>\n",
       "      <td>-0.101009</td>\n",
       "      <td>-0.134890</td>\n",
       "      <td>-0.088828</td>\n",
       "      <td>...</td>\n",
       "      <td>-0.595477</td>\n",
       "      <td>0.204643</td>\n",
       "      <td>0.203652</td>\n",
       "      <td>0.003514</td>\n",
       "      <td>-0.092606</td>\n",
       "      <td>-0.135784</td>\n",
       "      <td>-0.101068</td>\n",
       "      <td>-0.102834</td>\n",
       "      <td>-0.102128</td>\n",
       "      <td>2</td>\n",
       "    </tr>\n",
       "    <tr>\n",
       "      <th>276703</th>\n",
       "      <td>-625924180</td>\n",
       "      <td>-0.052898</td>\n",
       "      <td>-0.109119</td>\n",
       "      <td>-1.185821</td>\n",
       "      <td>-0.131401</td>\n",
       "      <td>-0.068726</td>\n",
       "      <td>-0.167505</td>\n",
       "      <td>0.136346</td>\n",
       "      <td>-0.134233</td>\n",
       "      <td>-0.085575</td>\n",
       "      <td>...</td>\n",
       "      <td>0.447922</td>\n",
       "      <td>0.204643</td>\n",
       "      <td>0.203652</td>\n",
       "      <td>-0.106566</td>\n",
       "      <td>-0.113936</td>\n",
       "      <td>-0.135784</td>\n",
       "      <td>-0.186659</td>\n",
       "      <td>-0.102834</td>\n",
       "      <td>-0.102128</td>\n",
       "      <td>0</td>\n",
       "    </tr>\n",
       "    <tr>\n",
       "      <th>276704</th>\n",
       "      <td>-638686123</td>\n",
       "      <td>0.036879</td>\n",
       "      <td>0.606092</td>\n",
       "      <td>0.439262</td>\n",
       "      <td>1.316634</td>\n",
       "      <td>-0.068726</td>\n",
       "      <td>1.340722</td>\n",
       "      <td>-0.021890</td>\n",
       "      <td>-0.134883</td>\n",
       "      <td>-0.074402</td>\n",
       "      <td>...</td>\n",
       "      <td>-0.595477</td>\n",
       "      <td>0.204643</td>\n",
       "      <td>0.203652</td>\n",
       "      <td>0.003514</td>\n",
       "      <td>-0.092606</td>\n",
       "      <td>-0.135784</td>\n",
       "      <td>-0.101068</td>\n",
       "      <td>-0.102834</td>\n",
       "      <td>-0.102128</td>\n",
       "      <td>2</td>\n",
       "    </tr>\n",
       "  </tbody>\n",
       "</table>\n",
       "<p>276705 rows × 167 columns</p>\n",
       "</div>"
      ],
      "text/plain": [
       "                0         2         3         4         5         6         7  \\\n",
       "0       230425980 -0.056189 -0.175567 -1.185821 -0.186390 -0.046514 -0.167505   \n",
       "1         5530458 -0.056193 -0.175567 -1.185821 -0.186390 -0.046514 -0.167505   \n",
       "2       232022460 -0.056378 -0.175567 -1.185821 -0.186390 -0.046514 -0.167505   \n",
       "3       232438397  0.043005  0.743641 -0.644127  2.874647 -0.068726  2.304311   \n",
       "4       230460314  0.294595 -0.131268 -1.185821  0.125213  0.375512  0.188604   \n",
       "...           ...       ...       ...       ...       ...       ...       ...   \n",
       "276700  -80255194 -0.015471  0.043889  1.522650 -0.058083 -0.046514 -0.020871   \n",
       "276701 -229310245 -0.056634 -0.141863  0.980956 -0.149731 -0.068726 -0.125609   \n",
       "276702 -223754303 -0.056336 -0.119014  0.980956 -0.149731 -0.068726 -0.125609   \n",
       "276703 -625924180 -0.052898 -0.109119 -1.185821 -0.131401 -0.068726 -0.167505   \n",
       "276704 -638686123  0.036879  0.606092  0.439262  1.316634 -0.068726  1.340722   \n",
       "\n",
       "               8         9        10  ...       158       159       160  \\\n",
       "0      -0.101009 -0.133295 -0.088508  ... -0.582752  1.442895  1.440189   \n",
       "1      -0.101009 -0.133311 -0.088517  ...  0.702410 -1.033609 -1.032884   \n",
       "2      -0.101009 -0.133972 -0.088883  ...  0.467009 -1.033609 -1.032884   \n",
       "3       3.142835 -0.134902 -0.058112  ... -0.595477  0.204643  0.203652   \n",
       "4      -0.101009 -0.134776  0.033618  ... -0.380435  0.484856  0.546219   \n",
       "...          ...       ...       ...  ...       ...       ...       ...   \n",
       "276700 -0.101009 -0.134902 -0.015154  ... -0.302816  1.442895  1.440189   \n",
       "276701 -0.101009 -0.134903 -0.089391  ... -0.570028  0.204643  0.203652   \n",
       "276702 -0.101009 -0.134890 -0.088828  ... -0.595477  0.204643  0.203652   \n",
       "276703  0.136346 -0.134233 -0.085575  ...  0.447922  0.204643  0.203652   \n",
       "276704 -0.021890 -0.134883 -0.074402  ... -0.595477  0.204643  0.203652   \n",
       "\n",
       "             161       162       163       164       165       166  class  \n",
       "0       0.003514 -0.092606 -0.135784 -0.101068 -0.102834 -0.102128      2  \n",
       "1       0.003514 -0.092606 -0.135784 -0.101068 -0.102834 -0.102128      2  \n",
       "2      -0.106566 -0.113936 -0.135784 -0.186659 -0.102834 -0.102128      2  \n",
       "3       0.994235  0.099367 -0.135784  0.669253 -0.102834 -0.102128      1  \n",
       "4       0.003514  0.312670  0.369103  1.281230  0.201809  0.202687      2  \n",
       "...          ...       ...       ...       ...       ...       ...    ...  \n",
       "276700  0.003514 -0.092606 -0.135784 -0.101068 -0.102834 -0.102128      2  \n",
       "276701 -0.106566 -0.113936 -0.135784 -0.186659 -0.102834 -0.102128      0  \n",
       "276702  0.003514 -0.092606 -0.135784 -0.101068 -0.102834 -0.102128      2  \n",
       "276703 -0.106566 -0.113936 -0.135784 -0.186659 -0.102834 -0.102128      0  \n",
       "276704  0.003514 -0.092606 -0.135784 -0.101068 -0.102834 -0.102128      2  \n",
       "\n",
       "[276705 rows x 167 columns]"
      ]
     },
     "execution_count": 36,
     "metadata": {},
     "output_type": "execute_result"
    }
   ],
   "source": [
    "node_features_filepath = datasets_folder + 'elliptic_txs_features.csv'\n",
    "node_features_dataframe = pd.read_csv(node_features_filepath, sep=',', header=None)\n",
    "# node_features_dataframe\n",
    "node_features_dataframe_with_class = node_features_dataframe.copy()\n",
    "node_features_dataframe_with_class['class'] = classes_dataframe_after_remap['class']\n",
    "# node_features_dataframe_with_class\n",
    "node_features_dataframe_with_class_without_timestep = node_features_dataframe_with_class.drop(columns=[1])\n",
    "node_features_dataframe_with_class_without_timestep"
   ]
  },
  {
   "cell_type": "code",
   "execution_count": 43,
   "metadata": {
    "colab": {
     "base_uri": "https://localhost:8080/",
     "height": 419
    },
    "id": "ZnFCZ_IASfNo",
    "outputId": "632f5d6e-b5e7-411a-ca86-e9409c1d957e"
   },
   "outputs": [],
   "source": [
    "# Splitting nodes into train and test\n",
    "train_node_features = node_features_dataframe_with_class_without_timestep[node_features_dataframe_with_class_without_timestep['class'] != 2]\n",
    "test_node_features = node_features_dataframe_with_class_without_timestep[node_features_dataframe_with_class_without_timestep['class'] == 2]\n",
    "# train_node_features\n",
    "train_node_features_without_class = train_node_features.drop(columns=['class'])\n",
    "test_node_features_without_class = test_node_features.drop(columns=['class'])"
   ]
  },
  {
   "cell_type": "code",
   "execution_count": 44,
   "metadata": {},
   "outputs": [],
   "source": [
    "def create_reindex_dict(node_features_without_class): \n",
    "    reindex_dictionary = dict()\n",
    "    for i, node_id in enumerate(node_features_without_class[0]):\n",
    "      reindex_dictionary[node_id] = i\n",
    "    return reindex_dictionary"
   ]
  },
  {
   "cell_type": "code",
   "execution_count": 45,
   "metadata": {},
   "outputs": [],
   "source": [
    "# # now we need to reindex the train nodes and train edges so that node id is equal to row id\n",
    "def reindex_edges(node_features_without_class, edges):\n",
    "    reindex_dictionary = create_reindex_dict(node_features_without_class)\n",
    "    edges_reindexed = edges.copy()\n",
    "    edges_reindexed[0] = edges[0].map(lambda node_id: reindex_dictionary[node_id])\n",
    "    edges_reindexed[1] = edges[1].map(lambda node_id: reindex_dictionary[node_id])\n",
    "    return edges_reindexed\n"
   ]
  },
  {
   "cell_type": "code",
   "execution_count": null,
   "metadata": {
    "id": "f3O3onUoY6Mp"
   },
   "outputs": [],
   "source": []
  },
  {
   "cell_type": "code",
   "execution_count": 46,
   "metadata": {
    "colab": {
     "base_uri": "https://localhost:8080/",
     "height": 419
    },
    "id": "4N7dBXL3Y8Ru",
    "outputId": "53c90ee4-8f69-425c-cada-4903c2097fe1"
   },
   "outputs": [],
   "source": [
    "train_edges_reindexed = reindex_edges(train_node_features_without_class, train_edges)\n"
   ]
  },
  {
   "cell_type": "code",
   "execution_count": 47,
   "metadata": {},
   "outputs": [
    {
     "data": {
      "text/plain": [
       "0              0\n",
       "1              3\n",
       "2              5\n",
       "3              8\n",
       "4             10\n",
       "           ...  \n",
       "131773    156703\n",
       "131774    155246\n",
       "131775    157071\n",
       "131776    155715\n",
       "131777    155744\n",
       "Name: 0, Length: 131778, dtype: int64"
      ]
     },
     "execution_count": 47,
     "metadata": {},
     "output_type": "execute_result"
    }
   ],
   "source": [
    "# attempting the same for test part\n",
    "reindex_dictionary = create_reindex_dict(test_node_features_without_class)\n",
    "# test_edges\n",
    "test_edges[0].map(lambda node_id: reindex_dictionary[node_id])"
   ]
  },
  {
   "cell_type": "code",
   "execution_count": 54,
   "metadata": {},
   "outputs": [],
   "source": [
    "test_edges_reindexed = reindex_edges(test_node_features_without_class, test_edges)\n",
    "# now we have test nodes & test edges which can be used to test the trained model"
   ]
  },
  {
   "cell_type": "code",
   "execution_count": null,
   "metadata": {
    "colab": {
     "base_uri": "https://localhost:8080/"
    },
    "id": "QRROwyGQXmBj",
    "outputId": "9424be4d-a0cf-4082-dd8e-b3f6680de047"
   },
   "outputs": [],
   "source": []
  },
  {
   "cell_type": "code",
   "execution_count": 49,
   "metadata": {
    "colab": {
     "base_uri": "https://localhost:8080/"
    },
    "id": "FE6qCHdiXniP",
    "outputId": "81e58dee-5f00-449d-b266-21d934353dce"
   },
   "outputs": [
    {
     "name": "stdout",
     "output_type": "stream",
     "text": [
      "166\n"
     ]
    },
    {
     "data": {
      "text/plain": [
       "Data(x=[71496, 166], edge_index=[2, 36633], y=[71496], train_mask=[71496], val_mask=[71496], test_mask=[71496])"
      ]
     },
     "execution_count": 49,
     "metadata": {},
     "output_type": "execute_result"
    }
   ],
   "source": [
    "# # now crafting the input data structures to pytorch geometric Data object\n",
    "# edge_index = torch.tensor(np.array(train_edges_reindexed), dtype=torch.long)\n",
    "# edge_index\n",
    "\n",
    "# x = torch.tensor(np.array(train_node_features_without_class), dtype=torch.float)\n",
    "# train_classes = train_node_features['class']\n",
    "# y = torch.tensor(np.array(train_classes), dtype=torch.float)\n",
    "\n",
    "# data = Data(x=x, edge_index=edge_index.t().contiguous(), y=y)\n",
    "# data.validate(raise_on_error = True)\n",
    "# split = T.RandomNodeSplit(num_val=0.1, num_test=0)\n",
    "# data_with_masks = split(data)\n",
    "# # print(data_with_masks.num_features)\n",
    "# # data_with_masks\n",
    "# # data.y\n",
    "\n",
    "\n"
   ]
  },
  {
   "cell_type": "code",
   "execution_count": 57,
   "metadata": {},
   "outputs": [],
   "source": [
    "def create_train_data_object(train_edges_reindexed, train_node_features_without_class, train_classes):\n",
    "    edge_index = torch.tensor(np.array(train_edges_reindexed), dtype=torch.long)\n",
    "    x = torch.tensor(np.array(train_node_features_without_class), dtype=torch.float)\n",
    "    y = torch.tensor(np.array(train_classes), dtype=torch.float)\n",
    "    data = Data(x=x, edge_index=edge_index.t().contiguous(), y=y)\n",
    "    data.validate(raise_on_error = True)\n",
    "    split = T.RandomNodeSplit(num_val=0.1, num_test=0)\n",
    "    data_with_masks = split(data)\n",
    "    return data_with_masks"
   ]
  },
  {
   "cell_type": "code",
   "execution_count": 64,
   "metadata": {},
   "outputs": [],
   "source": [
    "def create_test_data_object(test_edges_reindexed, test_node_features_without_class):\n",
    "    edge_index = torch.tensor(np.array(test_edges_reindexed), dtype=torch.long)\n",
    "    x = torch.tensor(np.array(test_node_features_without_class), dtype=torch.float)\n",
    "    data = Data(x=x, edge_index=edge_index.t().contiguous())\n",
    "    data.validate(raise_on_error = True)\n",
    "    return data"
   ]
  },
  {
   "cell_type": "code",
   "execution_count": 68,
   "metadata": {},
   "outputs": [
    {
     "data": {
      "text/plain": [
       "Data(x=[71496, 166], edge_index=[2, 36633], y=[71496], train_mask=[71496], val_mask=[71496], test_mask=[71496])"
      ]
     },
     "execution_count": 68,
     "metadata": {},
     "output_type": "execute_result"
    }
   ],
   "source": [
    "data_with_masks = create_train_data_object(train_edges_reindexed, train_node_features_without_class, train_node_features['class'])\n",
    "data_with_masks"
   ]
  },
  {
   "cell_type": "code",
   "execution_count": 69,
   "metadata": {},
   "outputs": [
    {
     "data": {
      "text/plain": [
       "Data(x=[205209, 166], edge_index=[2, 131778])"
      ]
     },
     "execution_count": 69,
     "metadata": {},
     "output_type": "execute_result"
    }
   ],
   "source": [
    "test_data_object = create_test_data_object(test_edges_reindexed, test_node_features_without_class)\n",
    "test_data_object"
   ]
  },
  {
   "cell_type": "code",
   "execution_count": 59,
   "metadata": {},
   "outputs": [],
   "source": [
    "# similarily we craft the test data structure to pytorch geometric Data object\n"
   ]
  },
  {
   "cell_type": "code",
   "execution_count": 60,
   "metadata": {},
   "outputs": [],
   "source": [
    "class Net(torch.nn.Module):\n",
    "    def __init__(self):\n",
    "        super(Net, self).__init__()\n",
    "        \n",
    "        self.hid = 8\n",
    "        self.in_head = 8\n",
    "        self.out_head = 1\n",
    "        self.conv1 = GATConv(data_with_masks.num_features, self.hid, heads = self.in_head)\n",
    "        self.conv2 = GATConv(self.hid * self.in_head, 1, concat=False, heads = self.out_head)\n",
    "\n",
    "    def forward(self, x, edge_index):\n",
    "        x = F.dropout(x, p=0.6, training = self.training)\n",
    "        x = self.conv1(x, edge_index)\n",
    "        x = F.elu(x)\n",
    "        x = F.dropout(x, p=0.6, training = self.training)\n",
    "        x = self.conv2(x, edge_index)\n",
    "        return F.sigmoid(x)"
   ]
  },
  {
   "cell_type": "code",
   "execution_count": 61,
   "metadata": {},
   "outputs": [],
   "source": [
    "model = Net().to(device)\n",
    "data_in_device = data_with_masks.to(device)"
   ]
  },
  {
   "cell_type": "code",
   "execution_count": 62,
   "metadata": {},
   "outputs": [],
   "source": [
    "optimizer = torch.optim.Adam(model.parameters(), lr=0.01, weight_decay=1e-5)\n",
    "scheduler = torch.optim.lr_scheduler.ReduceLROnPlateau(optimizer, 'min')\n",
    "criterion = torch.nn.BCELoss()"
   ]
  },
  {
   "cell_type": "code",
   "execution_count": 63,
   "metadata": {},
   "outputs": [
    {
     "name": "stdout",
     "output_type": "stream",
     "text": [
      "epoch: 0 - loss: 21.013776779174805 - train_roc: 0.5046040715881469 - val_auc: 0.49567072065208373\n",
      "epoch: 5 - loss: 21.523637771606445 - train_roc: 0.5736887485721682 - val_auc: 0.5757916217420403\n",
      "epoch: 10 - loss: 22.12625503540039 - train_roc: 0.5594298887856812 - val_auc: 0.5575923261344634\n",
      "epoch: 15 - loss: 26.744813919067383 - train_roc: 0.5120008936161552 - val_auc: 0.5190498497797649\n",
      "epoch: 20 - loss: 27.35834312438965 - train_roc: 0.5093680368335262 - val_auc: 0.5083002868103869\n",
      "epoch: 25 - loss: 25.18173599243164 - train_roc: 0.5342586368142712 - val_auc: 0.5406410350376725\n",
      "epoch: 30 - loss: 23.602275848388672 - train_roc: 0.5506170286354517 - val_auc: 0.5507926343543681\n",
      "epoch: 35 - loss: 18.402145385742188 - train_roc: 0.6169681194080421 - val_auc: 0.6147494298831863\n",
      "epoch: 40 - loss: 18.126705169677734 - train_roc: 0.621814615687934 - val_auc: 0.6077821346896553\n",
      "epoch: 45 - loss: 17.028181076049805 - train_roc: 0.6376390973568907 - val_auc: 0.6350922891660769\n",
      "epoch: 50 - loss: 16.196577072143555 - train_roc: 0.6459926126027816 - val_auc: 0.641727994005335\n",
      "epoch: 55 - loss: 15.355340003967285 - train_roc: 0.6618582096981167 - val_auc: 0.6531425057365292\n",
      "epoch: 60 - loss: 14.749002456665039 - train_roc: 0.6728183252971736 - val_auc: 0.6771350689830093\n",
      "epoch: 65 - loss: 14.723145484924316 - train_roc: 0.6723052488558166 - val_auc: 0.6722310517731003\n",
      "epoch: 70 - loss: 14.225725173950195 - train_roc: 0.6875370475771398 - val_auc: 0.6932715688033108\n",
      "epoch: 75 - loss: 13.46241283416748 - train_roc: 0.7029209616580047 - val_auc: 0.7042758118096957\n",
      "epoch: 80 - loss: 13.1618013381958 - train_roc: 0.7068469366215957 - val_auc: 0.716190320969176\n",
      "epoch: 85 - loss: 6.170858383178711 - train_roc: 0.8412098468044948 - val_auc: 0.8423029890387128\n",
      "epoch: 90 - loss: 4.677942276000977 - train_roc: 0.8711577240123131 - val_auc: 0.8772230055233985\n",
      "epoch: 95 - loss: 4.294626712799072 - train_roc: 0.8799721508919065 - val_auc: 0.8774870482061331\n",
      "epoch: 100 - loss: 3.9301199913024902 - train_roc: 0.8867203290122888 - val_auc: 0.8824195150004855\n",
      "epoch: 105 - loss: 4.084408760070801 - train_roc: 0.8864072529042234 - val_auc: 0.8871818870336116\n",
      "epoch: 110 - loss: 3.983024835586548 - train_roc: 0.8889535222095091 - val_auc: 0.8880200648329062\n",
      "epoch: 115 - loss: 3.8287229537963867 - train_roc: 0.8937644454554087 - val_auc: 0.8967389382550794\n",
      "epoch: 120 - loss: 3.8063859939575195 - train_roc: 0.8947723361178123 - val_auc: 0.8915363611406322\n",
      "epoch: 125 - loss: 3.9604239463806152 - train_roc: 0.9078885994269128 - val_auc: 0.9138383439963018\n",
      "epoch: 130 - loss: 3.8464810848236084 - train_roc: 0.9102601340291194 - val_auc: 0.9079318807650592\n",
      "epoch: 135 - loss: 3.89516544342041 - train_roc: 0.9094498985923698 - val_auc: 0.9134891534753818\n",
      "epoch: 140 - loss: 3.8163509368896484 - train_roc: 0.9113260889183697 - val_auc: 0.9077724746895138\n",
      "epoch: 145 - loss: 3.6899166107177734 - train_roc: 0.9121340081686475 - val_auc: 0.9106873917871032\n",
      "epoch: 150 - loss: 3.807994842529297 - train_roc: 0.9122030983406533 - val_auc: 0.9105178595882816\n",
      "epoch: 155 - loss: 3.9014172554016113 - train_roc: 0.9095333082319554 - val_auc: 0.909184144676906\n",
      "epoch: 160 - loss: 3.8974554538726807 - train_roc: 0.9099944472458583 - val_auc: 0.9115739499531625\n",
      "epoch: 165 - loss: 3.808943033218384 - train_roc: 0.9124031580121987 - val_auc: 0.9064347816582796\n"
     ]
    },
    {
     "data": {
      "text/plain": [
       "Net(\n",
       "  (conv1): GATConv(166, 8, heads=8)\n",
       "  (conv2): GATConv(64, 1, heads=1)\n",
       ")"
      ]
     },
     "execution_count": 63,
     "metadata": {},
     "output_type": "execute_result"
    }
   ],
   "source": [
    "model.train()\n",
    "for epoch in range(170):\n",
    "    optimizer.zero_grad()\n",
    "    out = model(data_in_device.x, data_in_device.edge_index)\n",
    "    out = out.reshape((data.x.shape[0]))\n",
    "    loss = criterion(out[data.train_mask], data.y[data.train_mask])\n",
    "    auc = roc_auc_score(data.y.detach().cpu().numpy(), out.detach().cpu().numpy()) #[train_idx]\n",
    "\n",
    "    if epoch%5 == 0:\n",
    "        train_auc = roc_auc_score(data.y[data.train_mask].detach().cpu().numpy(), out[data.train_mask].detach().cpu().numpy()) \n",
    "        val_auc = roc_auc_score(data.y[data.val_mask].detach().cpu().numpy(), out[data.val_mask].detach().cpu().numpy())\n",
    "        print(\"epoch: {} - loss: {} - train_roc: {} - val_auc: {}\".format(epoch, loss.item(), train_auc, val_auc))\n",
    "    loss.backward()\n",
    "    optimizer.step()\n",
    "\n",
    "model.eval()"
   ]
  },
  {
   "cell_type": "code",
   "execution_count": null,
   "metadata": {},
   "outputs": [],
   "source": []
  },
  {
   "cell_type": "code",
   "execution_count": 70,
   "metadata": {},
   "outputs": [],
   "source": [
    "# now testing the model on unlabeled dataset to see if proportions between predicted classes are as expected."
   ]
  },
  {
   "cell_type": "code",
   "execution_count": 74,
   "metadata": {
    "id": "pqpH1vKNZuKj"
   },
   "outputs": [
    {
     "data": {
      "text/plain": [
       "tensor([[1.],\n",
       "        [1.],\n",
       "        [1.],\n",
       "        ...,\n",
       "        [0.],\n",
       "        [0.],\n",
       "        [0.]], grad_fn=<SigmoidBackward0>)"
      ]
     },
     "execution_count": 74,
     "metadata": {},
     "output_type": "execute_result"
    }
   ],
   "source": [
    "data_in_device = test_data_object.to(device)\n",
    "output = model(data_in_device.x, data_in_device.edge_index)\n",
    "output\n"
   ]
  },
  {
   "cell_type": "code",
   "execution_count": 115,
   "metadata": {},
   "outputs": [
    {
     "name": "stdout",
     "output_type": "stream",
     "text": [
      "amount_of_illicit_predicted_transactions=48004\n",
      "amount_of_licit_predicted_transactions=157205\n",
      "percent of illicit transactions\n"
     ]
    },
    {
     "data": {
      "image/png": "[encoded data removed]",
      "text/plain": [
       "<Figure size 640x480 with 1 Axes>"
      ]
     },
     "metadata": {},
     "output_type": "display_data"
    }
   ],
   "source": [
    "amount_of_all_test_samples = output.shape[0]\n",
    "amount_of_licit_predicted_transactions = output.count_nonzero().item()\n",
    "amount_of_illicit_predicted_transactions = amount_of_all_test_samples - amount_of_licit_predicted_transactions\n",
    "\n",
    "print(f'{amount_of_illicit_predicted_transactions=}')\n",
    "print(f'{amount_of_licit_predicted_transactions=}')\n",
    "\n",
    "\n",
    "print(f'percent of illicit transactions')\n",
    "x = ['illicit', 'licit']\n",
    "y = [amount_of_illicit_predicted_transactions, amount_of_licit_predicted_transactions]\n",
    "plt.bar(x, y)\n",
    "# plt.text(x=0, y= 0,s= 0)\n",
    "plt.text(x='illicit', y= amount_of_illicit_predicted_transactions * 1.1,s= amount_of_illicit_predicted_transactions)\n",
    "plt.text(x='licit', y= amount_of_licit_predicted_transactions * 1.1,s= amount_of_licit_predicted_transactions)\n",
    "plt.show()\n"
   ]
  },
  {
   "cell_type": "code",
   "execution_count": 84,
   "metadata": {
    "id": "cmzIerPHZuO_"
   },
   "outputs": [
    {
     "data": {
      "text/plain": [
       "48004"
      ]
     },
     "execution_count": 84,
     "metadata": {},
     "output_type": "execute_result"
    }
   ],
   "source": []
  },
  {
   "cell_type": "code",
   "execution_count": null,
   "metadata": {},
   "outputs": [],
   "source": []
  }
 ],
 "metadata": {
  "accelerator": "GPU",
  "colab": {
   "gpuType": "T4",
   "provenance": []
  },
  "kernelspec": {
   "display_name": "Python 3 (ipykernel)",
   "language": "python",
   "name": "python3"
  },
  "language_info": {
   "codemirror_mode": {
    "name": "ipython",
    "version": 3
   },
   "file_extension": ".py",
   "mimetype": "text/x-python",
   "name": "python",
   "nbconvert_exporter": "python",
   "pygments_lexer": "ipython3",
   "version": "3.10.9"
  }
 },
 "nbformat": 4,
 "nbformat_minor": 4
}
