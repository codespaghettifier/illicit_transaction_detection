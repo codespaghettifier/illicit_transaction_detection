{
 "cells": [
  {
   "cell_type": "code",
   "execution_count": null,
   "metadata": {
    "colab": {
     "base_uri": "https://localhost:8080/"
    },
    "id": "-iD3w-5pR6H_",
    "outputId": "17230612-5f4f-40a8-b7b4-232eef6c119f"
   },
   "outputs": [],
   "source": [
    "# !pip install torch_geometric\n"
   ]
  },
  {
   "cell_type": "code",
   "execution_count": 31,
   "metadata": {
    "id": "SuPcEnbASIyU"
   },
   "outputs": [],
   "source": [
    "import numpy as np\n",
    "import pandas as pd\n",
    "import matplotlib.pyplot as plt\n",
    "import os\n",
    "\n",
    "import torch\n",
    "import torch_geometric\n",
    "import torch.nn\n",
    "import torch.nn.functional as F\n",
    "import torch.optim as optim\n",
    "from torch.nn import Linear, LayerNorm, ReLU, Dropout\n",
    "from torch_geometric.nn import ChebConv, NNConv, DeepGCNLayer, GATConv, DenseGCNConv, GCNConv, GraphConv, MessagePassing\n",
    "from torch_geometric.data import Data, DataLoader\n",
    "from torch_geometric.utils import add_self_loops, degree\n",
    "import torch_geometric.transforms as T\n",
    "\n",
    "\n",
    "from sklearn.metrics import roc_auc_score\n",
    "import scipy.sparse as sp\n",
    "\n",
    "import warnings\n",
    "warnings.filterwarnings(\"ignore\")"
   ]
  },
  {
   "cell_type": "code",
   "execution_count": 32,
   "metadata": {},
   "outputs": [
    {
     "name": "stdout",
     "output_type": "stream",
     "text": [
      "1.12.1\n"
     ]
    }
   ],
   "source": [
    "print(torch.__version__)"
   ]
  },
  {
   "cell_type": "code",
   "execution_count": 33,
   "metadata": {
    "colab": {
     "base_uri": "https://localhost:8080/"
    },
    "id": "eyOI5T-TSK7z",
    "outputId": "33932a3d-790f-4293-88f5-0ad9aef71f77"
   },
   "outputs": [
    {
     "name": "stdout",
     "output_type": "stream",
     "text": [
      "cpu\n"
     ]
    }
   ],
   "source": [
    "device = torch.device(\"cuda:0\") if torch.cuda.is_available() else torch.device(\"cpu\")\n",
    "print(device)\n"
   ]
  },
  {
   "cell_type": "code",
   "execution_count": 34,
   "metadata": {},
   "outputs": [],
   "source": [
    "# datasets_folder = '/content/drive/MyDrive/Colab Notebooks/ssn/projekt/datasets/elliptic_augmented_dataset/'\n",
    "datasets_folder = '../datasets/elliptic_augmented_dataset/'"
   ]
  },
  {
   "cell_type": "code",
   "execution_count": null,
   "metadata": {},
   "outputs": [],
   "source": []
  },
  {
   "cell_type": "code",
   "execution_count": 35,
   "metadata": {},
   "outputs": [],
   "source": [
    "def split_edges_into_train_and_test(edges_dataframe, node_features_with_class):\n",
    "    edges_amount = len(edges_dataframe)\n",
    "    step = int(edges_amount * 0.02)    \n",
    "\n",
    "    train_edges = [] # edges which have both nodes labeled.\n",
    "    test_edges = []  # edges which have both nodes unlabeled.\n",
    "    \n",
    "    # this may take a long time\n",
    "    for i, edge in enumerate(np.array(edges_dataframe)):\n",
    "        if i % step == 0:\n",
    "            print(f'{ round(i/ edges_amount * 100)}%')\n",
    "            \n",
    "        found_start_node = node_features_with_class[node_features_with_class[0] == edge[0]]\n",
    "        \n",
    "        #ignore edges for which a node does not exist (this happened once)\n",
    "        if len(found_start_node) == 0: continue\n",
    "            \n",
    "        found_end_node = node_features_with_class[node_features_with_class[0] == edge[1]]\n",
    "        if len(found_end_node) == 0: continue\n",
    "            \n",
    "        if found_start_node.values[0, -1] != 2 and found_end_node.values[0, -1] != 2:\n",
    "            train_edges.append(edge)\n",
    "            continue\n",
    "        \n",
    "        if found_start_node.values[0, -1] == 2 and found_end_node.values[0, -1] == 2:\n",
    "            test_edges.append(edge)\n",
    "            continue\n",
    "          \n",
    "        # if found_start_node.values[0, -1] == 2:\n",
    "        #   test_edges.append(edge)\n",
    "        #   continue\n",
    "        \n",
    "        # if found_end_node.values[0, -1] == 2:\n",
    "        #   test_edges.append(edge)\n",
    "        # else:\n",
    "        #   train_edges.append(edge)\n",
    "          \n",
    "    train_edges = pd.DataFrame(train_edges)\n",
    "    test_edges = pd.DataFrame(test_edges)\n",
    "    return train_edges, test_edges"
   ]
  },
  {
   "cell_type": "code",
   "execution_count": 36,
   "metadata": {},
   "outputs": [],
   "source": [
    "# This will read from cached files if they exist. If you change the code, delete the cached files.\n",
    "def split_edges_into_train_and_test_IO(datasets_folder):\n",
    "    train_edges_filepath = datasets_folder + 'train_edges.csv'\n",
    "    test_edges_filepath = datasets_folder + 'test_edges.csv'\n",
    "    \n",
    "    train_edges = [] # edges which have both nodes labeled.\n",
    "    test_edges = [] # edges which one or both nodes are unlabeled.\n",
    "    if os.path.isfile(train_edges_filepath) and os.path.isfile(test_edges_filepath):\n",
    "        train_edges = pd.read_csv(train_edges_filepath, sep=',').drop(columns=['Unnamed: 0']).rename(columns = {'0': 0, '1':1})\n",
    "        test_edges = pd.read_csv(test_edges_filepath, sep=',').drop(columns=['Unnamed: 0']).rename(columns = {'0': 0, '1':1})\n",
    "        \n",
    "    else:\n",
    "        edges_filepath = datasets_folder + 'elliptic_txs_edgelist.csv'\n",
    "        edges_dataframe = pd.read_csv(edges_filepath, sep=',')\n",
    "        train_edges, test_edges = split_edges_into_train_and_test(edges_dataframe, node_features_dataframe_with_class_without_timestep)\n",
    "        \n",
    "        # save the train_edges and test_edges to file so that the expensive split does not have to run every time.\n",
    "        train_edges.to_csv(train_edges_filepath)\n",
    "        test_edges.to_csv(test_edges_filepath)\n",
    "    \n",
    "    return train_edges, test_edges"
   ]
  },
  {
   "cell_type": "code",
   "execution_count": null,
   "metadata": {},
   "outputs": [],
   "source": []
  },
  {
   "cell_type": "code",
   "execution_count": 37,
   "metadata": {},
   "outputs": [
    {
     "data": {
      "text/html": [
       "<div>\n",
       "<style scoped>\n",
       "    .dataframe tbody tr th:only-of-type {\n",
       "        vertical-align: middle;\n",
       "    }\n",
       "\n",
       "    .dataframe tbody tr th {\n",
       "        vertical-align: top;\n",
       "    }\n",
       "\n",
       "    .dataframe thead th {\n",
       "        text-align: right;\n",
       "    }\n",
       "</style>\n",
       "<table border=\"1\" class=\"dataframe\">\n",
       "  <thead>\n",
       "    <tr style=\"text-align: right;\">\n",
       "      <th></th>\n",
       "      <th>txId</th>\n",
       "      <th>class</th>\n",
       "    </tr>\n",
       "  </thead>\n",
       "  <tbody>\n",
       "    <tr>\n",
       "      <th>0</th>\n",
       "      <td>230425980</td>\n",
       "      <td>unknown</td>\n",
       "    </tr>\n",
       "    <tr>\n",
       "      <th>1</th>\n",
       "      <td>5530458</td>\n",
       "      <td>unknown</td>\n",
       "    </tr>\n",
       "    <tr>\n",
       "      <th>2</th>\n",
       "      <td>232022460</td>\n",
       "      <td>unknown</td>\n",
       "    </tr>\n",
       "    <tr>\n",
       "      <th>3</th>\n",
       "      <td>232438397</td>\n",
       "      <td>2</td>\n",
       "    </tr>\n",
       "    <tr>\n",
       "      <th>4</th>\n",
       "      <td>230460314</td>\n",
       "      <td>unknown</td>\n",
       "    </tr>\n",
       "    <tr>\n",
       "      <th>...</th>\n",
       "      <td>...</td>\n",
       "      <td>...</td>\n",
       "    </tr>\n",
       "    <tr>\n",
       "      <th>276700</th>\n",
       "      <td>-80255194</td>\n",
       "      <td>unknown</td>\n",
       "    </tr>\n",
       "    <tr>\n",
       "      <th>276701</th>\n",
       "      <td>-229310245</td>\n",
       "      <td>suspicious</td>\n",
       "    </tr>\n",
       "    <tr>\n",
       "      <th>276702</th>\n",
       "      <td>-223754303</td>\n",
       "      <td>unknown</td>\n",
       "    </tr>\n",
       "    <tr>\n",
       "      <th>276703</th>\n",
       "      <td>-625924180</td>\n",
       "      <td>suspicious</td>\n",
       "    </tr>\n",
       "    <tr>\n",
       "      <th>276704</th>\n",
       "      <td>-638686123</td>\n",
       "      <td>unknown</td>\n",
       "    </tr>\n",
       "  </tbody>\n",
       "</table>\n",
       "<p>276705 rows × 2 columns</p>\n",
       "</div>"
      ],
      "text/plain": [
       "             txId       class\n",
       "0       230425980     unknown\n",
       "1         5530458     unknown\n",
       "2       232022460     unknown\n",
       "3       232438397           2\n",
       "4       230460314     unknown\n",
       "...           ...         ...\n",
       "276700  -80255194     unknown\n",
       "276701 -229310245  suspicious\n",
       "276702 -223754303     unknown\n",
       "276703 -625924180  suspicious\n",
       "276704 -638686123     unknown\n",
       "\n",
       "[276705 rows x 2 columns]"
      ]
     },
     "execution_count": 37,
     "metadata": {},
     "output_type": "execute_result"
    }
   ],
   "source": [
    "classes_filepath = datasets_folder + 'elliptic_txs_classes.csv'\n",
    "classes_dataframe = pd.read_csv(classes_filepath, sep=',')\n",
    "classes_dataframe"
   ]
  },
  {
   "cell_type": "code",
   "execution_count": 38,
   "metadata": {},
   "outputs": [],
   "source": [
    "# initially 2 is licit, 1 is illicit, suspicious is also illicit, unknown is unknown\n",
    "# after remapping 0 is illicit, 1 is licit, 2 is unknown\n",
    "# rows with class 0 and 1 will be used for training\n",
    "# rows with class 2 will be used for prediction\n",
    "\n",
    "def remap_label(label):\n",
    "  if label == '1': return 0\n",
    "  if label == 'suspicious': return 0\n",
    "  if label == '2': return 1\n",
    "  return 2"
   ]
  },
  {
   "cell_type": "code",
   "execution_count": 39,
   "metadata": {},
   "outputs": [
    {
     "data": {
      "text/html": [
       "<div>\n",
       "<style scoped>\n",
       "    .dataframe tbody tr th:only-of-type {\n",
       "        vertical-align: middle;\n",
       "    }\n",
       "\n",
       "    .dataframe tbody tr th {\n",
       "        vertical-align: top;\n",
       "    }\n",
       "\n",
       "    .dataframe thead th {\n",
       "        text-align: right;\n",
       "    }\n",
       "</style>\n",
       "<table border=\"1\" class=\"dataframe\">\n",
       "  <thead>\n",
       "    <tr style=\"text-align: right;\">\n",
       "      <th></th>\n",
       "      <th>txId</th>\n",
       "      <th>class</th>\n",
       "    </tr>\n",
       "  </thead>\n",
       "  <tbody>\n",
       "    <tr>\n",
       "      <th>0</th>\n",
       "      <td>230425980</td>\n",
       "      <td>2</td>\n",
       "    </tr>\n",
       "    <tr>\n",
       "      <th>1</th>\n",
       "      <td>5530458</td>\n",
       "      <td>2</td>\n",
       "    </tr>\n",
       "    <tr>\n",
       "      <th>2</th>\n",
       "      <td>232022460</td>\n",
       "      <td>2</td>\n",
       "    </tr>\n",
       "    <tr>\n",
       "      <th>3</th>\n",
       "      <td>232438397</td>\n",
       "      <td>1</td>\n",
       "    </tr>\n",
       "    <tr>\n",
       "      <th>4</th>\n",
       "      <td>230460314</td>\n",
       "      <td>2</td>\n",
       "    </tr>\n",
       "    <tr>\n",
       "      <th>...</th>\n",
       "      <td>...</td>\n",
       "      <td>...</td>\n",
       "    </tr>\n",
       "    <tr>\n",
       "      <th>276700</th>\n",
       "      <td>-80255194</td>\n",
       "      <td>2</td>\n",
       "    </tr>\n",
       "    <tr>\n",
       "      <th>276701</th>\n",
       "      <td>-229310245</td>\n",
       "      <td>0</td>\n",
       "    </tr>\n",
       "    <tr>\n",
       "      <th>276702</th>\n",
       "      <td>-223754303</td>\n",
       "      <td>2</td>\n",
       "    </tr>\n",
       "    <tr>\n",
       "      <th>276703</th>\n",
       "      <td>-625924180</td>\n",
       "      <td>0</td>\n",
       "    </tr>\n",
       "    <tr>\n",
       "      <th>276704</th>\n",
       "      <td>-638686123</td>\n",
       "      <td>2</td>\n",
       "    </tr>\n",
       "  </tbody>\n",
       "</table>\n",
       "<p>276705 rows × 2 columns</p>\n",
       "</div>"
      ],
      "text/plain": [
       "             txId  class\n",
       "0       230425980      2\n",
       "1         5530458      2\n",
       "2       232022460      2\n",
       "3       232438397      1\n",
       "4       230460314      2\n",
       "...           ...    ...\n",
       "276700  -80255194      2\n",
       "276701 -229310245      0\n",
       "276702 -223754303      2\n",
       "276703 -625924180      0\n",
       "276704 -638686123      2\n",
       "\n",
       "[276705 rows x 2 columns]"
      ]
     },
     "execution_count": 39,
     "metadata": {},
     "output_type": "execute_result"
    }
   ],
   "source": [
    "classes_dataframe_after_remap = classes_dataframe.copy()\n",
    "classes_dataframe_after_remap['class'] = classes_dataframe['class'].map(remap_label)\n",
    "classes_dataframe_after_remap"
   ]
  },
  {
   "cell_type": "code",
   "execution_count": 40,
   "metadata": {},
   "outputs": [
    {
     "data": {
      "text/html": [
       "<div>\n",
       "<style scoped>\n",
       "    .dataframe tbody tr th:only-of-type {\n",
       "        vertical-align: middle;\n",
       "    }\n",
       "\n",
       "    .dataframe tbody tr th {\n",
       "        vertical-align: top;\n",
       "    }\n",
       "\n",
       "    .dataframe thead th {\n",
       "        text-align: right;\n",
       "    }\n",
       "</style>\n",
       "<table border=\"1\" class=\"dataframe\">\n",
       "  <thead>\n",
       "    <tr style=\"text-align: right;\">\n",
       "      <th></th>\n",
       "      <th>0</th>\n",
       "      <th>2</th>\n",
       "      <th>3</th>\n",
       "      <th>4</th>\n",
       "      <th>5</th>\n",
       "      <th>6</th>\n",
       "      <th>7</th>\n",
       "      <th>8</th>\n",
       "      <th>9</th>\n",
       "      <th>10</th>\n",
       "      <th>...</th>\n",
       "      <th>158</th>\n",
       "      <th>159</th>\n",
       "      <th>160</th>\n",
       "      <th>161</th>\n",
       "      <th>162</th>\n",
       "      <th>163</th>\n",
       "      <th>164</th>\n",
       "      <th>165</th>\n",
       "      <th>166</th>\n",
       "      <th>class</th>\n",
       "    </tr>\n",
       "  </thead>\n",
       "  <tbody>\n",
       "    <tr>\n",
       "      <th>0</th>\n",
       "      <td>230425980</td>\n",
       "      <td>-0.056189</td>\n",
       "      <td>-0.175567</td>\n",
       "      <td>-1.185821</td>\n",
       "      <td>-0.186390</td>\n",
       "      <td>-0.046514</td>\n",
       "      <td>-0.167505</td>\n",
       "      <td>-0.101009</td>\n",
       "      <td>-0.133295</td>\n",
       "      <td>-0.088508</td>\n",
       "      <td>...</td>\n",
       "      <td>-0.582752</td>\n",
       "      <td>1.442895</td>\n",
       "      <td>1.440189</td>\n",
       "      <td>0.003514</td>\n",
       "      <td>-0.092606</td>\n",
       "      <td>-0.135784</td>\n",
       "      <td>-0.101068</td>\n",
       "      <td>-0.102834</td>\n",
       "      <td>-0.102128</td>\n",
       "      <td>2</td>\n",
       "    </tr>\n",
       "    <tr>\n",
       "      <th>1</th>\n",
       "      <td>5530458</td>\n",
       "      <td>-0.056193</td>\n",
       "      <td>-0.175567</td>\n",
       "      <td>-1.185821</td>\n",
       "      <td>-0.186390</td>\n",
       "      <td>-0.046514</td>\n",
       "      <td>-0.167505</td>\n",
       "      <td>-0.101009</td>\n",
       "      <td>-0.133311</td>\n",
       "      <td>-0.088517</td>\n",
       "      <td>...</td>\n",
       "      <td>0.702410</td>\n",
       "      <td>-1.033609</td>\n",
       "      <td>-1.032884</td>\n",
       "      <td>0.003514</td>\n",
       "      <td>-0.092606</td>\n",
       "      <td>-0.135784</td>\n",
       "      <td>-0.101068</td>\n",
       "      <td>-0.102834</td>\n",
       "      <td>-0.102128</td>\n",
       "      <td>2</td>\n",
       "    </tr>\n",
       "    <tr>\n",
       "      <th>2</th>\n",
       "      <td>232022460</td>\n",
       "      <td>-0.056378</td>\n",
       "      <td>-0.175567</td>\n",
       "      <td>-1.185821</td>\n",
       "      <td>-0.186390</td>\n",
       "      <td>-0.046514</td>\n",
       "      <td>-0.167505</td>\n",
       "      <td>-0.101009</td>\n",
       "      <td>-0.133972</td>\n",
       "      <td>-0.088883</td>\n",
       "      <td>...</td>\n",
       "      <td>0.467009</td>\n",
       "      <td>-1.033609</td>\n",
       "      <td>-1.032884</td>\n",
       "      <td>-0.106566</td>\n",
       "      <td>-0.113936</td>\n",
       "      <td>-0.135784</td>\n",
       "      <td>-0.186659</td>\n",
       "      <td>-0.102834</td>\n",
       "      <td>-0.102128</td>\n",
       "      <td>2</td>\n",
       "    </tr>\n",
       "    <tr>\n",
       "      <th>3</th>\n",
       "      <td>232438397</td>\n",
       "      <td>0.043005</td>\n",
       "      <td>0.743641</td>\n",
       "      <td>-0.644127</td>\n",
       "      <td>2.874647</td>\n",
       "      <td>-0.068726</td>\n",
       "      <td>2.304311</td>\n",
       "      <td>3.142835</td>\n",
       "      <td>-0.134902</td>\n",
       "      <td>-0.058112</td>\n",
       "      <td>...</td>\n",
       "      <td>-0.595477</td>\n",
       "      <td>0.204643</td>\n",
       "      <td>0.203652</td>\n",
       "      <td>0.994235</td>\n",
       "      <td>0.099367</td>\n",
       "      <td>-0.135784</td>\n",
       "      <td>0.669253</td>\n",
       "      <td>-0.102834</td>\n",
       "      <td>-0.102128</td>\n",
       "      <td>1</td>\n",
       "    </tr>\n",
       "    <tr>\n",
       "      <th>4</th>\n",
       "      <td>230460314</td>\n",
       "      <td>0.294595</td>\n",
       "      <td>-0.131268</td>\n",
       "      <td>-1.185821</td>\n",
       "      <td>0.125213</td>\n",
       "      <td>0.375512</td>\n",
       "      <td>0.188604</td>\n",
       "      <td>-0.101009</td>\n",
       "      <td>-0.134776</td>\n",
       "      <td>0.033618</td>\n",
       "      <td>...</td>\n",
       "      <td>-0.380435</td>\n",
       "      <td>0.484856</td>\n",
       "      <td>0.546219</td>\n",
       "      <td>0.003514</td>\n",
       "      <td>0.312670</td>\n",
       "      <td>0.369103</td>\n",
       "      <td>1.281230</td>\n",
       "      <td>0.201809</td>\n",
       "      <td>0.202687</td>\n",
       "      <td>2</td>\n",
       "    </tr>\n",
       "    <tr>\n",
       "      <th>...</th>\n",
       "      <td>...</td>\n",
       "      <td>...</td>\n",
       "      <td>...</td>\n",
       "      <td>...</td>\n",
       "      <td>...</td>\n",
       "      <td>...</td>\n",
       "      <td>...</td>\n",
       "      <td>...</td>\n",
       "      <td>...</td>\n",
       "      <td>...</td>\n",
       "      <td>...</td>\n",
       "      <td>...</td>\n",
       "      <td>...</td>\n",
       "      <td>...</td>\n",
       "      <td>...</td>\n",
       "      <td>...</td>\n",
       "      <td>...</td>\n",
       "      <td>...</td>\n",
       "      <td>...</td>\n",
       "      <td>...</td>\n",
       "      <td>...</td>\n",
       "    </tr>\n",
       "    <tr>\n",
       "      <th>276700</th>\n",
       "      <td>-80255194</td>\n",
       "      <td>-0.015471</td>\n",
       "      <td>0.043889</td>\n",
       "      <td>1.522650</td>\n",
       "      <td>-0.058083</td>\n",
       "      <td>-0.046514</td>\n",
       "      <td>-0.020871</td>\n",
       "      <td>-0.101009</td>\n",
       "      <td>-0.134902</td>\n",
       "      <td>-0.015154</td>\n",
       "      <td>...</td>\n",
       "      <td>-0.302816</td>\n",
       "      <td>1.442895</td>\n",
       "      <td>1.440189</td>\n",
       "      <td>0.003514</td>\n",
       "      <td>-0.092606</td>\n",
       "      <td>-0.135784</td>\n",
       "      <td>-0.101068</td>\n",
       "      <td>-0.102834</td>\n",
       "      <td>-0.102128</td>\n",
       "      <td>2</td>\n",
       "    </tr>\n",
       "    <tr>\n",
       "      <th>276701</th>\n",
       "      <td>-229310245</td>\n",
       "      <td>-0.056634</td>\n",
       "      <td>-0.141863</td>\n",
       "      <td>0.980956</td>\n",
       "      <td>-0.149731</td>\n",
       "      <td>-0.068726</td>\n",
       "      <td>-0.125609</td>\n",
       "      <td>-0.101009</td>\n",
       "      <td>-0.134903</td>\n",
       "      <td>-0.089391</td>\n",
       "      <td>...</td>\n",
       "      <td>-0.570028</td>\n",
       "      <td>0.204643</td>\n",
       "      <td>0.203652</td>\n",
       "      <td>-0.106566</td>\n",
       "      <td>-0.113936</td>\n",
       "      <td>-0.135784</td>\n",
       "      <td>-0.186659</td>\n",
       "      <td>-0.102834</td>\n",
       "      <td>-0.102128</td>\n",
       "      <td>0</td>\n",
       "    </tr>\n",
       "    <tr>\n",
       "      <th>276702</th>\n",
       "      <td>-223754303</td>\n",
       "      <td>-0.056336</td>\n",
       "      <td>-0.119014</td>\n",
       "      <td>0.980956</td>\n",
       "      <td>-0.149731</td>\n",
       "      <td>-0.068726</td>\n",
       "      <td>-0.125609</td>\n",
       "      <td>-0.101009</td>\n",
       "      <td>-0.134890</td>\n",
       "      <td>-0.088828</td>\n",
       "      <td>...</td>\n",
       "      <td>-0.595477</td>\n",
       "      <td>0.204643</td>\n",
       "      <td>0.203652</td>\n",
       "      <td>0.003514</td>\n",
       "      <td>-0.092606</td>\n",
       "      <td>-0.135784</td>\n",
       "      <td>-0.101068</td>\n",
       "      <td>-0.102834</td>\n",
       "      <td>-0.102128</td>\n",
       "      <td>2</td>\n",
       "    </tr>\n",
       "    <tr>\n",
       "      <th>276703</th>\n",
       "      <td>-625924180</td>\n",
       "      <td>-0.052898</td>\n",
       "      <td>-0.109119</td>\n",
       "      <td>-1.185821</td>\n",
       "      <td>-0.131401</td>\n",
       "      <td>-0.068726</td>\n",
       "      <td>-0.167505</td>\n",
       "      <td>0.136346</td>\n",
       "      <td>-0.134233</td>\n",
       "      <td>-0.085575</td>\n",
       "      <td>...</td>\n",
       "      <td>0.447922</td>\n",
       "      <td>0.204643</td>\n",
       "      <td>0.203652</td>\n",
       "      <td>-0.106566</td>\n",
       "      <td>-0.113936</td>\n",
       "      <td>-0.135784</td>\n",
       "      <td>-0.186659</td>\n",
       "      <td>-0.102834</td>\n",
       "      <td>-0.102128</td>\n",
       "      <td>0</td>\n",
       "    </tr>\n",
       "    <tr>\n",
       "      <th>276704</th>\n",
       "      <td>-638686123</td>\n",
       "      <td>0.036879</td>\n",
       "      <td>0.606092</td>\n",
       "      <td>0.439262</td>\n",
       "      <td>1.316634</td>\n",
       "      <td>-0.068726</td>\n",
       "      <td>1.340722</td>\n",
       "      <td>-0.021890</td>\n",
       "      <td>-0.134883</td>\n",
       "      <td>-0.074402</td>\n",
       "      <td>...</td>\n",
       "      <td>-0.595477</td>\n",
       "      <td>0.204643</td>\n",
       "      <td>0.203652</td>\n",
       "      <td>0.003514</td>\n",
       "      <td>-0.092606</td>\n",
       "      <td>-0.135784</td>\n",
       "      <td>-0.101068</td>\n",
       "      <td>-0.102834</td>\n",
       "      <td>-0.102128</td>\n",
       "      <td>2</td>\n",
       "    </tr>\n",
       "  </tbody>\n",
       "</table>\n",
       "<p>276705 rows × 167 columns</p>\n",
       "</div>"
      ],
      "text/plain": [
       "                0         2         3         4         5         6         7  \\\n",
       "0       230425980 -0.056189 -0.175567 -1.185821 -0.186390 -0.046514 -0.167505   \n",
       "1         5530458 -0.056193 -0.175567 -1.185821 -0.186390 -0.046514 -0.167505   \n",
       "2       232022460 -0.056378 -0.175567 -1.185821 -0.186390 -0.046514 -0.167505   \n",
       "3       232438397  0.043005  0.743641 -0.644127  2.874647 -0.068726  2.304311   \n",
       "4       230460314  0.294595 -0.131268 -1.185821  0.125213  0.375512  0.188604   \n",
       "...           ...       ...       ...       ...       ...       ...       ...   \n",
       "276700  -80255194 -0.015471  0.043889  1.522650 -0.058083 -0.046514 -0.020871   \n",
       "276701 -229310245 -0.056634 -0.141863  0.980956 -0.149731 -0.068726 -0.125609   \n",
       "276702 -223754303 -0.056336 -0.119014  0.980956 -0.149731 -0.068726 -0.125609   \n",
       "276703 -625924180 -0.052898 -0.109119 -1.185821 -0.131401 -0.068726 -0.167505   \n",
       "276704 -638686123  0.036879  0.606092  0.439262  1.316634 -0.068726  1.340722   \n",
       "\n",
       "               8         9        10  ...       158       159       160  \\\n",
       "0      -0.101009 -0.133295 -0.088508  ... -0.582752  1.442895  1.440189   \n",
       "1      -0.101009 -0.133311 -0.088517  ...  0.702410 -1.033609 -1.032884   \n",
       "2      -0.101009 -0.133972 -0.088883  ...  0.467009 -1.033609 -1.032884   \n",
       "3       3.142835 -0.134902 -0.058112  ... -0.595477  0.204643  0.203652   \n",
       "4      -0.101009 -0.134776  0.033618  ... -0.380435  0.484856  0.546219   \n",
       "...          ...       ...       ...  ...       ...       ...       ...   \n",
       "276700 -0.101009 -0.134902 -0.015154  ... -0.302816  1.442895  1.440189   \n",
       "276701 -0.101009 -0.134903 -0.089391  ... -0.570028  0.204643  0.203652   \n",
       "276702 -0.101009 -0.134890 -0.088828  ... -0.595477  0.204643  0.203652   \n",
       "276703  0.136346 -0.134233 -0.085575  ...  0.447922  0.204643  0.203652   \n",
       "276704 -0.021890 -0.134883 -0.074402  ... -0.595477  0.204643  0.203652   \n",
       "\n",
       "             161       162       163       164       165       166  class  \n",
       "0       0.003514 -0.092606 -0.135784 -0.101068 -0.102834 -0.102128      2  \n",
       "1       0.003514 -0.092606 -0.135784 -0.101068 -0.102834 -0.102128      2  \n",
       "2      -0.106566 -0.113936 -0.135784 -0.186659 -0.102834 -0.102128      2  \n",
       "3       0.994235  0.099367 -0.135784  0.669253 -0.102834 -0.102128      1  \n",
       "4       0.003514  0.312670  0.369103  1.281230  0.201809  0.202687      2  \n",
       "...          ...       ...       ...       ...       ...       ...    ...  \n",
       "276700  0.003514 -0.092606 -0.135784 -0.101068 -0.102834 -0.102128      2  \n",
       "276701 -0.106566 -0.113936 -0.135784 -0.186659 -0.102834 -0.102128      0  \n",
       "276702  0.003514 -0.092606 -0.135784 -0.101068 -0.102834 -0.102128      2  \n",
       "276703 -0.106566 -0.113936 -0.135784 -0.186659 -0.102834 -0.102128      0  \n",
       "276704  0.003514 -0.092606 -0.135784 -0.101068 -0.102834 -0.102128      2  \n",
       "\n",
       "[276705 rows x 167 columns]"
      ]
     },
     "execution_count": 40,
     "metadata": {},
     "output_type": "execute_result"
    }
   ],
   "source": [
    "node_features_filepath = datasets_folder + 'elliptic_txs_features.csv'\n",
    "node_features_dataframe = pd.read_csv(node_features_filepath, sep=',', header=None)\n",
    "# node_features_dataframe\n",
    "node_features_dataframe_with_class = node_features_dataframe.copy()\n",
    "node_features_dataframe_with_class['class'] = classes_dataframe_after_remap['class']\n",
    "# node_features_dataframe_with_class\n",
    "node_features_dataframe_with_class_without_timestep = node_features_dataframe_with_class.drop(columns=[1])\n",
    "node_features_dataframe_with_class_without_timestep"
   ]
  },
  {
   "cell_type": "code",
   "execution_count": 41,
   "metadata": {},
   "outputs": [
    {
     "name": "stdout",
     "output_type": "stream",
     "text": [
      "36633\n",
      "131778\n"
     ]
    },
    {
     "data": {
      "text/html": [
       "<div>\n",
       "<style scoped>\n",
       "    .dataframe tbody tr th:only-of-type {\n",
       "        vertical-align: middle;\n",
       "    }\n",
       "\n",
       "    .dataframe tbody tr th {\n",
       "        vertical-align: top;\n",
       "    }\n",
       "\n",
       "    .dataframe thead th {\n",
       "        text-align: right;\n",
       "    }\n",
       "</style>\n",
       "<table border=\"1\" class=\"dataframe\">\n",
       "  <thead>\n",
       "    <tr style=\"text-align: right;\">\n",
       "      <th></th>\n",
       "      <th>0</th>\n",
       "      <th>1</th>\n",
       "    </tr>\n",
       "  </thead>\n",
       "  <tbody>\n",
       "    <tr>\n",
       "      <th>0</th>\n",
       "      <td>232344069</td>\n",
       "      <td>27553029</td>\n",
       "    </tr>\n",
       "    <tr>\n",
       "      <th>1</th>\n",
       "      <td>3881097</td>\n",
       "      <td>232457116</td>\n",
       "    </tr>\n",
       "    <tr>\n",
       "      <th>2</th>\n",
       "      <td>232051089</td>\n",
       "      <td>232470704</td>\n",
       "    </tr>\n",
       "    <tr>\n",
       "      <th>3</th>\n",
       "      <td>230473487</td>\n",
       "      <td>7089694</td>\n",
       "    </tr>\n",
       "    <tr>\n",
       "      <th>4</th>\n",
       "      <td>231182296</td>\n",
       "      <td>14660781</td>\n",
       "    </tr>\n",
       "    <tr>\n",
       "      <th>...</th>\n",
       "      <td>...</td>\n",
       "      <td>...</td>\n",
       "    </tr>\n",
       "    <tr>\n",
       "      <th>36628</th>\n",
       "      <td>-335492958</td>\n",
       "      <td>336712245</td>\n",
       "    </tr>\n",
       "    <tr>\n",
       "      <th>36629</th>\n",
       "      <td>-16565051</td>\n",
       "      <td>21440143</td>\n",
       "    </tr>\n",
       "    <tr>\n",
       "      <th>36630</th>\n",
       "      <td>-335493020</td>\n",
       "      <td>336712245</td>\n",
       "    </tr>\n",
       "    <tr>\n",
       "      <th>36631</th>\n",
       "      <td>-335493021</td>\n",
       "      <td>336712245</td>\n",
       "    </tr>\n",
       "    <tr>\n",
       "      <th>36632</th>\n",
       "      <td>-11300494</td>\n",
       "      <td>94174202</td>\n",
       "    </tr>\n",
       "  </tbody>\n",
       "</table>\n",
       "<p>36633 rows × 2 columns</p>\n",
       "</div>"
      ],
      "text/plain": [
       "               0          1\n",
       "0      232344069   27553029\n",
       "1        3881097  232457116\n",
       "2      232051089  232470704\n",
       "3      230473487    7089694\n",
       "4      231182296   14660781\n",
       "...          ...        ...\n",
       "36628 -335492958  336712245\n",
       "36629  -16565051   21440143\n",
       "36630 -335493020  336712245\n",
       "36631 -335493021  336712245\n",
       "36632  -11300494   94174202\n",
       "\n",
       "[36633 rows x 2 columns]"
      ]
     },
     "execution_count": 41,
     "metadata": {},
     "output_type": "execute_result"
    }
   ],
   "source": [
    "train_edges, test_edges = split_edges_into_train_and_test_IO(datasets_folder)\n",
    "print(len(train_edges))\n",
    "print(len(test_edges))\n",
    "train_edges"
   ]
  },
  {
   "cell_type": "code",
   "execution_count": null,
   "metadata": {},
   "outputs": [],
   "source": []
  },
  {
   "cell_type": "code",
   "execution_count": null,
   "metadata": {
    "colab": {
     "base_uri": "https://localhost:8080/",
     "height": 419
    },
    "id": "Vd3GB0YrSLMk",
    "outputId": "1fa36373-defc-445c-8fb4-70f6514c6ae0"
   },
   "outputs": [],
   "source": []
  },
  {
   "cell_type": "code",
   "execution_count": null,
   "metadata": {
    "id": "r2eFNMdvTM7_"
   },
   "outputs": [],
   "source": []
  },
  {
   "cell_type": "code",
   "execution_count": null,
   "metadata": {
    "colab": {
     "base_uri": "https://localhost:8080/",
     "height": 419
    },
    "id": "B-gBA0omSkGn",
    "outputId": "19604d87-7d4e-411b-cfa6-db8f72419158"
   },
   "outputs": [],
   "source": []
  },
  {
   "cell_type": "code",
   "execution_count": null,
   "metadata": {
    "colab": {
     "base_uri": "https://localhost:8080/",
     "height": 419
    },
    "id": "HrXrOogCT8_k",
    "outputId": "d03f26db-cfa7-43b3-cf6a-c7d453eb19a1"
   },
   "outputs": [],
   "source": []
  },
  {
   "cell_type": "code",
   "execution_count": 42,
   "metadata": {
    "colab": {
     "base_uri": "https://localhost:8080/",
     "height": 419
    },
    "id": "ZnFCZ_IASfNo",
    "outputId": "632f5d6e-b5e7-411a-ca86-e9409c1d957e"
   },
   "outputs": [],
   "source": [
    "# Splitting nodes into train and test\n",
    "train_node_features = node_features_dataframe_with_class_without_timestep[node_features_dataframe_with_class_without_timestep['class'] != 2]\n",
    "test_node_features = node_features_dataframe_with_class_without_timestep[node_features_dataframe_with_class_without_timestep['class'] == 2]\n",
    "# train_node_features\n",
    "train_node_features_without_class = train_node_features.drop(columns=['class'])\n",
    "test_node_features_without_class = test_node_features.drop(columns=['class'])"
   ]
  },
  {
   "cell_type": "code",
   "execution_count": 43,
   "metadata": {},
   "outputs": [],
   "source": [
    "def create_reindex_dict(node_features_without_class): \n",
    "    reindex_dictionary = dict()\n",
    "    for i, node_id in enumerate(node_features_without_class[0]):\n",
    "      reindex_dictionary[node_id] = i\n",
    "    return reindex_dictionary"
   ]
  },
  {
   "cell_type": "code",
   "execution_count": 44,
   "metadata": {},
   "outputs": [],
   "source": [
    "# # now we need to reindex the train nodes and train edges so that node id is equal to row id\n",
    "def reindex_edges(node_features_without_class, edges):\n",
    "    reindex_dictionary = create_reindex_dict(node_features_without_class)\n",
    "    edges_reindexed = edges.copy()\n",
    "    edges_reindexed[0] = edges[0].map(lambda node_id: reindex_dictionary[node_id])\n",
    "    edges_reindexed[1] = edges[1].map(lambda node_id: reindex_dictionary[node_id])\n",
    "    return edges_reindexed\n"
   ]
  },
  {
   "cell_type": "code",
   "execution_count": null,
   "metadata": {
    "id": "f3O3onUoY6Mp"
   },
   "outputs": [],
   "source": []
  },
  {
   "cell_type": "code",
   "execution_count": 45,
   "metadata": {
    "colab": {
     "base_uri": "https://localhost:8080/",
     "height": 419
    },
    "id": "4N7dBXL3Y8Ru",
    "outputId": "53c90ee4-8f69-425c-cada-4903c2097fe1"
   },
   "outputs": [],
   "source": [
    "train_edges_reindexed = reindex_edges(train_node_features_without_class, train_edges)\n"
   ]
  },
  {
   "cell_type": "code",
   "execution_count": 46,
   "metadata": {},
   "outputs": [],
   "source": [
    "# reindex_dictionary = create_reindex_dict(test_node_features_without_class)\n",
    "# test_edges[0].map(lambda node_id: reindex_dictionary[node_id])"
   ]
  },
  {
   "cell_type": "code",
   "execution_count": 47,
   "metadata": {},
   "outputs": [],
   "source": [
    "test_edges_reindexed = reindex_edges(test_node_features_without_class, test_edges)\n",
    "# now we have test nodes & test edges which can be used to test the trained model"
   ]
  },
  {
   "cell_type": "code",
   "execution_count": null,
   "metadata": {
    "colab": {
     "base_uri": "https://localhost:8080/"
    },
    "id": "FE6qCHdiXniP",
    "outputId": "81e58dee-5f00-449d-b266-21d934353dce"
   },
   "outputs": [],
   "source": [
    "\n",
    "\n"
   ]
  },
  {
   "cell_type": "code",
   "execution_count": 48,
   "metadata": {},
   "outputs": [],
   "source": [
    "def create_train_data_object(train_edges_reindexed, train_node_features_without_class, train_classes):\n",
    "    edge_index = torch.tensor(np.array(train_edges_reindexed), dtype=torch.long)\n",
    "    x = torch.tensor(np.array(train_node_features_without_class), dtype=torch.float)\n",
    "    y = torch.tensor(np.array(train_classes), dtype=torch.float)\n",
    "    data = Data(x=x, edge_index=edge_index.t().contiguous(), y=y)\n",
    "    data.validate(raise_on_error = True)\n",
    "    split = T.RandomNodeSplit(num_val=0.1, num_test=0)\n",
    "    data_with_masks = split(data)\n",
    "    return data_with_masks"
   ]
  },
  {
   "cell_type": "code",
   "execution_count": 49,
   "metadata": {},
   "outputs": [],
   "source": [
    "def create_test_data_object(test_edges_reindexed, test_node_features_without_class):\n",
    "    edge_index = torch.tensor(np.array(test_edges_reindexed), dtype=torch.long)\n",
    "    x = torch.tensor(np.array(test_node_features_without_class), dtype=torch.float)\n",
    "    data = Data(x=x, edge_index=edge_index.t().contiguous())\n",
    "    data.validate(raise_on_error = True)\n",
    "    return data"
   ]
  },
  {
   "cell_type": "code",
   "execution_count": 50,
   "metadata": {},
   "outputs": [
    {
     "data": {
      "text/plain": [
       "Data(x=[71496, 166], edge_index=[2, 36633], y=[71496], train_mask=[71496], val_mask=[71496], test_mask=[71496])"
      ]
     },
     "execution_count": 50,
     "metadata": {},
     "output_type": "execute_result"
    }
   ],
   "source": [
    "data_with_masks = create_train_data_object(train_edges_reindexed, train_node_features_without_class, train_node_features['class'])\n",
    "data_with_masks"
   ]
  },
  {
   "cell_type": "code",
   "execution_count": 51,
   "metadata": {},
   "outputs": [
    {
     "data": {
      "text/plain": [
       "Data(x=[205209, 166], edge_index=[2, 131778])"
      ]
     },
     "execution_count": 51,
     "metadata": {},
     "output_type": "execute_result"
    }
   ],
   "source": [
    "test_data_object = create_test_data_object(test_edges_reindexed, test_node_features_without_class)\n",
    "test_data_object"
   ]
  },
  {
   "cell_type": "code",
   "execution_count": null,
   "metadata": {},
   "outputs": [],
   "source": [
    "\n"
   ]
  },
  {
   "cell_type": "code",
   "execution_count": 52,
   "metadata": {},
   "outputs": [],
   "source": [
    "class Net(torch.nn.Module):\n",
    "    def __init__(self):\n",
    "        super(Net, self).__init__()\n",
    "        \n",
    "        self.hid = 8\n",
    "        self.in_head = 8\n",
    "        self.out_head = 1\n",
    "        self.conv1 = GATConv(data_with_masks.num_features, self.hid, heads = self.in_head)\n",
    "        self.conv2 = GATConv(self.hid * self.in_head, 1, concat=False, heads = self.out_head)\n",
    "\n",
    "    def forward(self, x, edge_index):\n",
    "        x = F.dropout(x, p=0.6, training = self.training)\n",
    "        x = self.conv1(x, edge_index)\n",
    "        x = F.elu(x)\n",
    "        x = F.dropout(x, p=0.6, training = self.training)\n",
    "        x = self.conv2(x, edge_index)\n",
    "        return F.sigmoid(x)"
   ]
  },
  {
   "cell_type": "code",
   "execution_count": 53,
   "metadata": {},
   "outputs": [],
   "source": [
    "model = Net().to(device)\n",
    "data_in_device = data_with_masks.to(device)"
   ]
  },
  {
   "cell_type": "code",
   "execution_count": 54,
   "metadata": {},
   "outputs": [],
   "source": [
    "optimizer = torch.optim.Adam(model.parameters(), lr=0.01, weight_decay=1e-5)\n",
    "scheduler = torch.optim.lr_scheduler.ReduceLROnPlateau(optimizer, 'min')\n",
    "criterion = torch.nn.BCELoss()"
   ]
  },
  {
   "cell_type": "code",
   "execution_count": 55,
   "metadata": {},
   "outputs": [
    {
     "ename": "NameError",
     "evalue": "name 'data' is not defined",
     "output_type": "error",
     "traceback": [
      "\u001b[0;31m---------------------------------------------------------------------------\u001b[0m",
      "\u001b[0;31mNameError\u001b[0m                                 Traceback (most recent call last)",
      "Cell \u001b[0;32mIn[55], line 5\u001b[0m\n\u001b[1;32m      3\u001b[0m optimizer\u001b[38;5;241m.\u001b[39mzero_grad()\n\u001b[1;32m      4\u001b[0m out \u001b[38;5;241m=\u001b[39m model(data_in_device\u001b[38;5;241m.\u001b[39mx, data_in_device\u001b[38;5;241m.\u001b[39medge_index)\n\u001b[0;32m----> 5\u001b[0m out \u001b[38;5;241m=\u001b[39m out\u001b[38;5;241m.\u001b[39mreshape((\u001b[43mdata\u001b[49m\u001b[38;5;241m.\u001b[39mx\u001b[38;5;241m.\u001b[39mshape[\u001b[38;5;241m0\u001b[39m]))\n\u001b[1;32m      6\u001b[0m loss \u001b[38;5;241m=\u001b[39m criterion(out[data\u001b[38;5;241m.\u001b[39mtrain_mask], data\u001b[38;5;241m.\u001b[39my[data\u001b[38;5;241m.\u001b[39mtrain_mask])\n\u001b[1;32m      7\u001b[0m auc \u001b[38;5;241m=\u001b[39m roc_auc_score(data\u001b[38;5;241m.\u001b[39my\u001b[38;5;241m.\u001b[39mdetach()\u001b[38;5;241m.\u001b[39mcpu()\u001b[38;5;241m.\u001b[39mnumpy(), out\u001b[38;5;241m.\u001b[39mdetach()\u001b[38;5;241m.\u001b[39mcpu()\u001b[38;5;241m.\u001b[39mnumpy()) \u001b[38;5;66;03m#[train_idx]\u001b[39;00m\n",
      "\u001b[0;31mNameError\u001b[0m: name 'data' is not defined"
     ]
    }
   ],
   "source": [
    "model.train()\n",
    "for epoch in range(170):\n",
    "    optimizer.zero_grad()\n",
    "    out = model(data_in_device.x, data_in_device.edge_index)\n",
    "    out = out.reshape((data_in_device.x.shape[0]))\n",
    "    loss = criterion(out[data_in_device.train_mask], data_in_device.y[data.train_mask])\n",
    "    auc = roc_auc_score(data_in_device.y.detach().cpu().numpy(), out.detach().cpu().numpy()) #[train_idx]\n",
    "\n",
    "    if epoch%5 == 0:\n",
    "        train_auc = roc_auc_score(data.y[data_in_device.train_mask].detach().cpu().numpy(), out[data_in_device.train_mask].detach().cpu().numpy()) \n",
    "        val_auc = roc_auc_score(data.y[data_in_device.val_mask].detach().cpu().numpy(), out[data_in_device.val_mask].detach().cpu().numpy())\n",
    "        print(\"epoch: {} - loss: {} - train_roc: {} - val_auc: {}\".format(epoch, loss.item(), train_auc, val_auc))\n",
    "    loss.backward()\n",
    "    optimizer.step()\n",
    "\n",
    "model.eval()"
   ]
  },
  {
   "cell_type": "code",
   "execution_count": null,
   "metadata": {},
   "outputs": [],
   "source": []
  },
  {
   "cell_type": "code",
   "execution_count": null,
   "metadata": {},
   "outputs": [],
   "source": [
    "# now testing the model on unlabeled dataset to see if proportions between predicted classes are as expected."
   ]
  },
  {
   "cell_type": "code",
   "execution_count": null,
   "metadata": {
    "id": "pqpH1vKNZuKj"
   },
   "outputs": [],
   "source": [
    "data_in_device = test_data_object.to(device)\n",
    "output = model(data_in_device.x, data_in_device.edge_index)\n",
    "output\n"
   ]
  },
  {
   "cell_type": "code",
   "execution_count": null,
   "metadata": {},
   "outputs": [],
   "source": [
    "amount_of_all_test_samples = output.shape[0]\n",
    "amount_of_licit_predicted_transactions = output.count_nonzero().item()\n",
    "amount_of_illicit_predicted_transactions = amount_of_all_test_samples - amount_of_licit_predicted_transactions\n",
    "\n",
    "print(f'{amount_of_illicit_predicted_transactions=}')\n",
    "print(f'{amount_of_licit_predicted_transactions=}')\n",
    "\n",
    "\n",
    "print(f'percent of illicit transactions')\n",
    "x = ['illicit', 'licit']\n",
    "y = [amount_of_illicit_predicted_transactions, amount_of_licit_predicted_transactions]\n",
    "plt.bar(x, y)\n",
    "# plt.text(x=0, y= 0,s= 0)\n",
    "plt.text(x='illicit', y= amount_of_illicit_predicted_transactions * 1.1,s= amount_of_illicit_predicted_transactions)\n",
    "plt.text(x='licit', y= amount_of_licit_predicted_transactions * 1.1,s= amount_of_licit_predicted_transactions)\n",
    "plt.show()\n"
   ]
  },
  {
   "cell_type": "code",
   "execution_count": null,
   "metadata": {
    "id": "cmzIerPHZuO_"
   },
   "outputs": [],
   "source": []
  },
  {
   "cell_type": "code",
   "execution_count": null,
   "metadata": {},
   "outputs": [],
   "source": []
  }
 ],
 "metadata": {
  "accelerator": "GPU",
  "colab": {
   "gpuType": "T4",
   "provenance": []
  },
  "kernelspec": {
   "display_name": "Python 3 (ipykernel)",
   "language": "python",
   "name": "python3"
  },
  "language_info": {
   "codemirror_mode": {
    "name": "ipython",
    "version": 3
   },
   "file_extension": ".py",
   "mimetype": "text/x-python",
   "name": "python",
   "nbconvert_exporter": "python",
   "pygments_lexer": "ipython3",
   "version": "3.10.9"
  }
 },
 "nbformat": 4,
 "nbformat_minor": 4
}
