{
 "cells": [
  {
   "cell_type": "markdown",
   "metadata": {},
   "source": []
  },
  {
   "cell_type": "code",
   "execution_count": 1,
   "metadata": {
    "colab": {
     "base_uri": "https://localhost:8080/"
    },
    "id": "-iD3w-5pR6H_",
    "outputId": "17230612-5f4f-40a8-b7b4-232eef6c119f"
   },
   "outputs": [],
   "source": [
    "# !pip install torch_geometric\n",
    "# !pip install shap"
   ]
  },
  {
   "cell_type": "code",
   "execution_count": 2,
   "metadata": {
    "id": "SuPcEnbASIyU"
   },
   "outputs": [
    {
     "name": "stderr",
     "output_type": "stream",
     "text": [
      "/home/coean/miniconda3/envs/gnn_shap/lib/python3.10/site-packages/tqdm/auto.py:21: TqdmWarning: IProgress not found. Please update jupyter and ipywidgets. See https://ipywidgets.readthedocs.io/en/stable/user_install.html\n",
      "  from .autonotebook import tqdm as notebook_tqdm\n"
     ]
    }
   ],
   "source": [
    "import numpy as np\n",
    "import pandas as pd\n",
    "import matplotlib.pyplot as plt\n",
    "import os\n",
    "\n",
    "import torch\n",
    "import torch_geometric\n",
    "import torch.nn\n",
    "import torch.nn.functional as F\n",
    "import torch.optim as optim\n",
    "from torch.nn import Linear, LayerNorm, ReLU, Dropout\n",
    "from torch_geometric.nn import ChebConv, NNConv, DeepGCNLayer, GATConv, DenseGCNConv, GCNConv, GraphConv, MessagePassing\n",
    "from torch_geometric.data import Data, DataLoader\n",
    "from torch_geometric.utils import add_self_loops, degree\n",
    "import torch_geometric.transforms as T\n",
    "\n",
    "\n",
    "from sklearn.metrics import roc_auc_score, confusion_matrix, ConfusionMatrixDisplay, roc_curve, RocCurveDisplay\n",
    "import sklearn.metrics as metrics\n",
    "import scipy.sparse as sp\n",
    "\n",
    "import warnings\n",
    "warnings.filterwarnings(\"ignore\")\n",
    "import math\n",
    "import shap"
   ]
  },
  {
   "cell_type": "code",
   "execution_count": 3,
   "metadata": {},
   "outputs": [
    {
     "name": "stdout",
     "output_type": "stream",
     "text": [
      "1.12.1\n"
     ]
    }
   ],
   "source": [
    "print(torch.__version__)"
   ]
  },
  {
   "cell_type": "code",
   "execution_count": 4,
   "metadata": {
    "colab": {
     "base_uri": "https://localhost:8080/"
    },
    "id": "eyOI5T-TSK7z",
    "outputId": "33932a3d-790f-4293-88f5-0ad9aef71f77"
   },
   "outputs": [
    {
     "name": "stdout",
     "output_type": "stream",
     "text": [
      "cuda:0\n"
     ]
    }
   ],
   "source": [
    "device = torch.device(\"cuda:0\") if torch.cuda.is_available() else torch.device(\"cpu\")\n",
    "print(device)\n"
   ]
  },
  {
   "cell_type": "code",
   "execution_count": 5,
   "metadata": {},
   "outputs": [],
   "source": [
    "# datasets_folder = '/content/drive/MyDrive/Colab Notebooks/ssn/projekt/datasets/elliptic_augmented_dataset/'\n",
    "datasets_folder = '../datasets/elliptic_augmented_dataset/'"
   ]
  },
  {
   "cell_type": "code",
   "execution_count": null,
   "metadata": {},
   "outputs": [],
   "source": []
  },
  {
   "cell_type": "code",
   "execution_count": 6,
   "metadata": {},
   "outputs": [],
   "source": [
    "def split_edges_into_train_and_test(edges_dataframe, node_features_with_class):\n",
    "    edges_amount = len(edges_dataframe)\n",
    "    step = int(edges_amount * 0.02)    \n",
    "\n",
    "    train_edges = [] # edges which have both nodes labeled.\n",
    "    test_edges = []  # edges which have both nodes unlabeled.\n",
    "    \n",
    "    # this may take a long time\n",
    "    for i, edge in enumerate(np.array(edges_dataframe)):\n",
    "        if i % step == 0:\n",
    "            print(f'{ round(i/ edges_amount * 100)}%')\n",
    "            \n",
    "        found_start_node = node_features_with_class[node_features_with_class[0] == edge[0]]\n",
    "        \n",
    "        #ignore edges for which a node does not exist (this happened once)\n",
    "        if len(found_start_node) == 0: continue\n",
    "            \n",
    "        found_end_node = node_features_with_class[node_features_with_class[0] == edge[1]]\n",
    "        if len(found_end_node) == 0: continue\n",
    "            \n",
    "        if found_start_node.values[0, -1] != 2 and found_end_node.values[0, -1] != 2:\n",
    "            train_edges.append(edge)\n",
    "            continue\n",
    "        \n",
    "        if found_start_node.values[0, -1] == 2 and found_end_node.values[0, -1] == 2:\n",
    "            test_edges.append(edge)\n",
    "            continue\n",
    "          \n",
    "        # if found_start_node.values[0, -1] == 2:\n",
    "        #   test_edges.append(edge)\n",
    "        #   continue\n",
    "        \n",
    "        # if found_end_node.values[0, -1] == 2:\n",
    "        #   test_edges.append(edge)\n",
    "        # else:\n",
    "        #   train_edges.append(edge)\n",
    "          \n",
    "    train_edges = pd.DataFrame(train_edges)\n",
    "    test_edges = pd.DataFrame(test_edges)\n",
    "    return train_edges, test_edges"
   ]
  },
  {
   "cell_type": "code",
   "execution_count": 7,
   "metadata": {},
   "outputs": [],
   "source": [
    "# This will read from cached files if they exist. If you change the code, delete the cached files.\n",
    "def split_edges_into_train_and_test_IO(datasets_folder):\n",
    "    train_edges_filepath = datasets_folder + 'train_edges.csv'\n",
    "    test_edges_filepath = datasets_folder + 'test_edges.csv'\n",
    "    \n",
    "    train_edges = [] # edges which have both nodes labeled.\n",
    "    test_edges = [] # edges which one or both nodes are unlabeled.\n",
    "    if os.path.isfile(train_edges_filepath) and os.path.isfile(test_edges_filepath):\n",
    "        train_edges = pd.read_csv(train_edges_filepath, sep=',').drop(columns=['Unnamed: 0']).rename(columns = {'0': 0, '1':1})\n",
    "        test_edges = pd.read_csv(test_edges_filepath, sep=',').drop(columns=['Unnamed: 0']).rename(columns = {'0': 0, '1':1})\n",
    "        \n",
    "    else:\n",
    "        edges_filepath = datasets_folder + 'elliptic_txs_edgelist.csv'\n",
    "        edges_dataframe = pd.read_csv(edges_filepath, sep=',')\n",
    "        train_edges, test_edges = split_edges_into_train_and_test(edges_dataframe, node_features_dataframe_with_class_without_timestep)\n",
    "        \n",
    "        # save the train_edges and test_edges to file so that the expensive split does not have to run every time.\n",
    "        train_edges.to_csv(train_edges_filepath)\n",
    "        test_edges.to_csv(test_edges_filepath)\n",
    "    \n",
    "    return train_edges, test_edges"
   ]
  },
  {
   "cell_type": "code",
   "execution_count": null,
   "metadata": {},
   "outputs": [],
   "source": []
  },
  {
   "cell_type": "code",
   "execution_count": 8,
   "metadata": {},
   "outputs": [
    {
     "data": {
      "text/html": [
       "<div>\n",
       "<style scoped>\n",
       "    .dataframe tbody tr th:only-of-type {\n",
       "        vertical-align: middle;\n",
       "    }\n",
       "\n",
       "    .dataframe tbody tr th {\n",
       "        vertical-align: top;\n",
       "    }\n",
       "\n",
       "    .dataframe thead th {\n",
       "        text-align: right;\n",
       "    }\n",
       "</style>\n",
       "<table border=\"1\" class=\"dataframe\">\n",
       "  <thead>\n",
       "    <tr style=\"text-align: right;\">\n",
       "      <th></th>\n",
       "      <th>txId</th>\n",
       "      <th>class</th>\n",
       "    </tr>\n",
       "  </thead>\n",
       "  <tbody>\n",
       "    <tr>\n",
       "      <th>0</th>\n",
       "      <td>230425980</td>\n",
       "      <td>unknown</td>\n",
       "    </tr>\n",
       "    <tr>\n",
       "      <th>1</th>\n",
       "      <td>5530458</td>\n",
       "      <td>unknown</td>\n",
       "    </tr>\n",
       "    <tr>\n",
       "      <th>2</th>\n",
       "      <td>232022460</td>\n",
       "      <td>unknown</td>\n",
       "    </tr>\n",
       "    <tr>\n",
       "      <th>3</th>\n",
       "      <td>232438397</td>\n",
       "      <td>2</td>\n",
       "    </tr>\n",
       "    <tr>\n",
       "      <th>4</th>\n",
       "      <td>230460314</td>\n",
       "      <td>unknown</td>\n",
       "    </tr>\n",
       "    <tr>\n",
       "      <th>...</th>\n",
       "      <td>...</td>\n",
       "      <td>...</td>\n",
       "    </tr>\n",
       "    <tr>\n",
       "      <th>276700</th>\n",
       "      <td>-80255194</td>\n",
       "      <td>unknown</td>\n",
       "    </tr>\n",
       "    <tr>\n",
       "      <th>276701</th>\n",
       "      <td>-229310245</td>\n",
       "      <td>suspicious</td>\n",
       "    </tr>\n",
       "    <tr>\n",
       "      <th>276702</th>\n",
       "      <td>-223754303</td>\n",
       "      <td>unknown</td>\n",
       "    </tr>\n",
       "    <tr>\n",
       "      <th>276703</th>\n",
       "      <td>-625924180</td>\n",
       "      <td>suspicious</td>\n",
       "    </tr>\n",
       "    <tr>\n",
       "      <th>276704</th>\n",
       "      <td>-638686123</td>\n",
       "      <td>unknown</td>\n",
       "    </tr>\n",
       "  </tbody>\n",
       "</table>\n",
       "<p>276705 rows × 2 columns</p>\n",
       "</div>"
      ],
      "text/plain": [
       "             txId       class\n",
       "0       230425980     unknown\n",
       "1         5530458     unknown\n",
       "2       232022460     unknown\n",
       "3       232438397           2\n",
       "4       230460314     unknown\n",
       "...           ...         ...\n",
       "276700  -80255194     unknown\n",
       "276701 -229310245  suspicious\n",
       "276702 -223754303     unknown\n",
       "276703 -625924180  suspicious\n",
       "276704 -638686123     unknown\n",
       "\n",
       "[276705 rows x 2 columns]"
      ]
     },
     "execution_count": 8,
     "metadata": {},
     "output_type": "execute_result"
    }
   ],
   "source": [
    "classes_filepath = datasets_folder + 'elliptic_txs_classes.csv'\n",
    "classes_dataframe = pd.read_csv(classes_filepath, sep=',')\n",
    "classes_dataframe"
   ]
  },
  {
   "cell_type": "code",
   "execution_count": 9,
   "metadata": {},
   "outputs": [],
   "source": [
    "# initially 2 is licit, 1 is illicit, suspicious is also illicit, unknown is unknown\n",
    "# after remapping 0 is illicit, 1 is licit, 2 is unknown\n",
    "# rows with class 0 and 1 will be used for training\n",
    "# rows with class 2 will be used for prediction\n",
    "\n",
    "def remap_label(label):\n",
    "  if label == '1': return 0\n",
    "  if label == 'suspicious': return 0\n",
    "  if label == '2': return 1\n",
    "  return 2"
   ]
  },
  {
   "cell_type": "code",
   "execution_count": 10,
   "metadata": {},
   "outputs": [
    {
     "data": {
      "text/html": [
       "<div>\n",
       "<style scoped>\n",
       "    .dataframe tbody tr th:only-of-type {\n",
       "        vertical-align: middle;\n",
       "    }\n",
       "\n",
       "    .dataframe tbody tr th {\n",
       "        vertical-align: top;\n",
       "    }\n",
       "\n",
       "    .dataframe thead th {\n",
       "        text-align: right;\n",
       "    }\n",
       "</style>\n",
       "<table border=\"1\" class=\"dataframe\">\n",
       "  <thead>\n",
       "    <tr style=\"text-align: right;\">\n",
       "      <th></th>\n",
       "      <th>txId</th>\n",
       "      <th>class</th>\n",
       "    </tr>\n",
       "  </thead>\n",
       "  <tbody>\n",
       "    <tr>\n",
       "      <th>0</th>\n",
       "      <td>230425980</td>\n",
       "      <td>2</td>\n",
       "    </tr>\n",
       "    <tr>\n",
       "      <th>1</th>\n",
       "      <td>5530458</td>\n",
       "      <td>2</td>\n",
       "    </tr>\n",
       "    <tr>\n",
       "      <th>2</th>\n",
       "      <td>232022460</td>\n",
       "      <td>2</td>\n",
       "    </tr>\n",
       "    <tr>\n",
       "      <th>3</th>\n",
       "      <td>232438397</td>\n",
       "      <td>1</td>\n",
       "    </tr>\n",
       "    <tr>\n",
       "      <th>4</th>\n",
       "      <td>230460314</td>\n",
       "      <td>2</td>\n",
       "    </tr>\n",
       "    <tr>\n",
       "      <th>...</th>\n",
       "      <td>...</td>\n",
       "      <td>...</td>\n",
       "    </tr>\n",
       "    <tr>\n",
       "      <th>276700</th>\n",
       "      <td>-80255194</td>\n",
       "      <td>2</td>\n",
       "    </tr>\n",
       "    <tr>\n",
       "      <th>276701</th>\n",
       "      <td>-229310245</td>\n",
       "      <td>0</td>\n",
       "    </tr>\n",
       "    <tr>\n",
       "      <th>276702</th>\n",
       "      <td>-223754303</td>\n",
       "      <td>2</td>\n",
       "    </tr>\n",
       "    <tr>\n",
       "      <th>276703</th>\n",
       "      <td>-625924180</td>\n",
       "      <td>0</td>\n",
       "    </tr>\n",
       "    <tr>\n",
       "      <th>276704</th>\n",
       "      <td>-638686123</td>\n",
       "      <td>2</td>\n",
       "    </tr>\n",
       "  </tbody>\n",
       "</table>\n",
       "<p>276705 rows × 2 columns</p>\n",
       "</div>"
      ],
      "text/plain": [
       "             txId  class\n",
       "0       230425980      2\n",
       "1         5530458      2\n",
       "2       232022460      2\n",
       "3       232438397      1\n",
       "4       230460314      2\n",
       "...           ...    ...\n",
       "276700  -80255194      2\n",
       "276701 -229310245      0\n",
       "276702 -223754303      2\n",
       "276703 -625924180      0\n",
       "276704 -638686123      2\n",
       "\n",
       "[276705 rows x 2 columns]"
      ]
     },
     "execution_count": 10,
     "metadata": {},
     "output_type": "execute_result"
    }
   ],
   "source": [
    "classes_dataframe_after_remap = classes_dataframe.copy()\n",
    "classes_dataframe_after_remap['class'] = classes_dataframe['class'].map(remap_label)\n",
    "classes_dataframe_after_remap\n"
   ]
  },
  {
   "cell_type": "code",
   "execution_count": 11,
   "metadata": {},
   "outputs": [
    {
     "name": "stdout",
     "output_type": "stream",
     "text": [
      "illicit: 29477\n",
      "licit: 42019\n",
      "unknown: 205209\n"
     ]
    }
   ],
   "source": [
    "print('illicit: ' + str(len(classes_dataframe_after_remap[classes_dataframe_after_remap['class'] == 0] )))\n",
    "print('licit: ' + str(len(classes_dataframe_after_remap[classes_dataframe_after_remap['class'] == 1])))\n",
    "print('unknown: ' + str(len(classes_dataframe_after_remap[classes_dataframe_after_remap['class'] == 2])))\n"
   ]
  },
  {
   "cell_type": "code",
   "execution_count": 12,
   "metadata": {},
   "outputs": [
    {
     "data": {
      "text/html": [
       "<div>\n",
       "<style scoped>\n",
       "    .dataframe tbody tr th:only-of-type {\n",
       "        vertical-align: middle;\n",
       "    }\n",
       "\n",
       "    .dataframe tbody tr th {\n",
       "        vertical-align: top;\n",
       "    }\n",
       "\n",
       "    .dataframe thead th {\n",
       "        text-align: right;\n",
       "    }\n",
       "</style>\n",
       "<table border=\"1\" class=\"dataframe\">\n",
       "  <thead>\n",
       "    <tr style=\"text-align: right;\">\n",
       "      <th></th>\n",
       "      <th>0</th>\n",
       "      <th>2</th>\n",
       "      <th>3</th>\n",
       "      <th>4</th>\n",
       "      <th>5</th>\n",
       "      <th>6</th>\n",
       "      <th>7</th>\n",
       "      <th>8</th>\n",
       "      <th>9</th>\n",
       "      <th>10</th>\n",
       "      <th>...</th>\n",
       "      <th>158</th>\n",
       "      <th>159</th>\n",
       "      <th>160</th>\n",
       "      <th>161</th>\n",
       "      <th>162</th>\n",
       "      <th>163</th>\n",
       "      <th>164</th>\n",
       "      <th>165</th>\n",
       "      <th>166</th>\n",
       "      <th>class</th>\n",
       "    </tr>\n",
       "  </thead>\n",
       "  <tbody>\n",
       "    <tr>\n",
       "      <th>0</th>\n",
       "      <td>230425980</td>\n",
       "      <td>-0.056189</td>\n",
       "      <td>-0.175567</td>\n",
       "      <td>-1.185821</td>\n",
       "      <td>-0.186390</td>\n",
       "      <td>-0.046514</td>\n",
       "      <td>-0.167505</td>\n",
       "      <td>-0.101009</td>\n",
       "      <td>-0.133295</td>\n",
       "      <td>-0.088508</td>\n",
       "      <td>...</td>\n",
       "      <td>-0.582752</td>\n",
       "      <td>1.442895</td>\n",
       "      <td>1.440189</td>\n",
       "      <td>0.003514</td>\n",
       "      <td>-0.092606</td>\n",
       "      <td>-0.135784</td>\n",
       "      <td>-0.101068</td>\n",
       "      <td>-0.102834</td>\n",
       "      <td>-0.102128</td>\n",
       "      <td>2</td>\n",
       "    </tr>\n",
       "    <tr>\n",
       "      <th>1</th>\n",
       "      <td>5530458</td>\n",
       "      <td>-0.056193</td>\n",
       "      <td>-0.175567</td>\n",
       "      <td>-1.185821</td>\n",
       "      <td>-0.186390</td>\n",
       "      <td>-0.046514</td>\n",
       "      <td>-0.167505</td>\n",
       "      <td>-0.101009</td>\n",
       "      <td>-0.133311</td>\n",
       "      <td>-0.088517</td>\n",
       "      <td>...</td>\n",
       "      <td>0.702410</td>\n",
       "      <td>-1.033609</td>\n",
       "      <td>-1.032884</td>\n",
       "      <td>0.003514</td>\n",
       "      <td>-0.092606</td>\n",
       "      <td>-0.135784</td>\n",
       "      <td>-0.101068</td>\n",
       "      <td>-0.102834</td>\n",
       "      <td>-0.102128</td>\n",
       "      <td>2</td>\n",
       "    </tr>\n",
       "    <tr>\n",
       "      <th>2</th>\n",
       "      <td>232022460</td>\n",
       "      <td>-0.056378</td>\n",
       "      <td>-0.175567</td>\n",
       "      <td>-1.185821</td>\n",
       "      <td>-0.186390</td>\n",
       "      <td>-0.046514</td>\n",
       "      <td>-0.167505</td>\n",
       "      <td>-0.101009</td>\n",
       "      <td>-0.133972</td>\n",
       "      <td>-0.088883</td>\n",
       "      <td>...</td>\n",
       "      <td>0.467009</td>\n",
       "      <td>-1.033609</td>\n",
       "      <td>-1.032884</td>\n",
       "      <td>-0.106566</td>\n",
       "      <td>-0.113936</td>\n",
       "      <td>-0.135784</td>\n",
       "      <td>-0.186659</td>\n",
       "      <td>-0.102834</td>\n",
       "      <td>-0.102128</td>\n",
       "      <td>2</td>\n",
       "    </tr>\n",
       "    <tr>\n",
       "      <th>3</th>\n",
       "      <td>232438397</td>\n",
       "      <td>0.043005</td>\n",
       "      <td>0.743641</td>\n",
       "      <td>-0.644127</td>\n",
       "      <td>2.874647</td>\n",
       "      <td>-0.068726</td>\n",
       "      <td>2.304311</td>\n",
       "      <td>3.142835</td>\n",
       "      <td>-0.134902</td>\n",
       "      <td>-0.058112</td>\n",
       "      <td>...</td>\n",
       "      <td>-0.595477</td>\n",
       "      <td>0.204643</td>\n",
       "      <td>0.203652</td>\n",
       "      <td>0.994235</td>\n",
       "      <td>0.099367</td>\n",
       "      <td>-0.135784</td>\n",
       "      <td>0.669253</td>\n",
       "      <td>-0.102834</td>\n",
       "      <td>-0.102128</td>\n",
       "      <td>1</td>\n",
       "    </tr>\n",
       "    <tr>\n",
       "      <th>4</th>\n",
       "      <td>230460314</td>\n",
       "      <td>0.294595</td>\n",
       "      <td>-0.131268</td>\n",
       "      <td>-1.185821</td>\n",
       "      <td>0.125213</td>\n",
       "      <td>0.375512</td>\n",
       "      <td>0.188604</td>\n",
       "      <td>-0.101009</td>\n",
       "      <td>-0.134776</td>\n",
       "      <td>0.033618</td>\n",
       "      <td>...</td>\n",
       "      <td>-0.380435</td>\n",
       "      <td>0.484856</td>\n",
       "      <td>0.546219</td>\n",
       "      <td>0.003514</td>\n",
       "      <td>0.312670</td>\n",
       "      <td>0.369103</td>\n",
       "      <td>1.281230</td>\n",
       "      <td>0.201809</td>\n",
       "      <td>0.202687</td>\n",
       "      <td>2</td>\n",
       "    </tr>\n",
       "    <tr>\n",
       "      <th>...</th>\n",
       "      <td>...</td>\n",
       "      <td>...</td>\n",
       "      <td>...</td>\n",
       "      <td>...</td>\n",
       "      <td>...</td>\n",
       "      <td>...</td>\n",
       "      <td>...</td>\n",
       "      <td>...</td>\n",
       "      <td>...</td>\n",
       "      <td>...</td>\n",
       "      <td>...</td>\n",
       "      <td>...</td>\n",
       "      <td>...</td>\n",
       "      <td>...</td>\n",
       "      <td>...</td>\n",
       "      <td>...</td>\n",
       "      <td>...</td>\n",
       "      <td>...</td>\n",
       "      <td>...</td>\n",
       "      <td>...</td>\n",
       "      <td>...</td>\n",
       "    </tr>\n",
       "    <tr>\n",
       "      <th>276700</th>\n",
       "      <td>-80255194</td>\n",
       "      <td>-0.015471</td>\n",
       "      <td>0.043889</td>\n",
       "      <td>1.522650</td>\n",
       "      <td>-0.058083</td>\n",
       "      <td>-0.046514</td>\n",
       "      <td>-0.020871</td>\n",
       "      <td>-0.101009</td>\n",
       "      <td>-0.134902</td>\n",
       "      <td>-0.015154</td>\n",
       "      <td>...</td>\n",
       "      <td>-0.302816</td>\n",
       "      <td>1.442895</td>\n",
       "      <td>1.440189</td>\n",
       "      <td>0.003514</td>\n",
       "      <td>-0.092606</td>\n",
       "      <td>-0.135784</td>\n",
       "      <td>-0.101068</td>\n",
       "      <td>-0.102834</td>\n",
       "      <td>-0.102128</td>\n",
       "      <td>2</td>\n",
       "    </tr>\n",
       "    <tr>\n",
       "      <th>276701</th>\n",
       "      <td>-229310245</td>\n",
       "      <td>-0.056634</td>\n",
       "      <td>-0.141863</td>\n",
       "      <td>0.980956</td>\n",
       "      <td>-0.149731</td>\n",
       "      <td>-0.068726</td>\n",
       "      <td>-0.125609</td>\n",
       "      <td>-0.101009</td>\n",
       "      <td>-0.134903</td>\n",
       "      <td>-0.089391</td>\n",
       "      <td>...</td>\n",
       "      <td>-0.570028</td>\n",
       "      <td>0.204643</td>\n",
       "      <td>0.203652</td>\n",
       "      <td>-0.106566</td>\n",
       "      <td>-0.113936</td>\n",
       "      <td>-0.135784</td>\n",
       "      <td>-0.186659</td>\n",
       "      <td>-0.102834</td>\n",
       "      <td>-0.102128</td>\n",
       "      <td>0</td>\n",
       "    </tr>\n",
       "    <tr>\n",
       "      <th>276702</th>\n",
       "      <td>-223754303</td>\n",
       "      <td>-0.056336</td>\n",
       "      <td>-0.119014</td>\n",
       "      <td>0.980956</td>\n",
       "      <td>-0.149731</td>\n",
       "      <td>-0.068726</td>\n",
       "      <td>-0.125609</td>\n",
       "      <td>-0.101009</td>\n",
       "      <td>-0.134890</td>\n",
       "      <td>-0.088828</td>\n",
       "      <td>...</td>\n",
       "      <td>-0.595477</td>\n",
       "      <td>0.204643</td>\n",
       "      <td>0.203652</td>\n",
       "      <td>0.003514</td>\n",
       "      <td>-0.092606</td>\n",
       "      <td>-0.135784</td>\n",
       "      <td>-0.101068</td>\n",
       "      <td>-0.102834</td>\n",
       "      <td>-0.102128</td>\n",
       "      <td>2</td>\n",
       "    </tr>\n",
       "    <tr>\n",
       "      <th>276703</th>\n",
       "      <td>-625924180</td>\n",
       "      <td>-0.052898</td>\n",
       "      <td>-0.109119</td>\n",
       "      <td>-1.185821</td>\n",
       "      <td>-0.131401</td>\n",
       "      <td>-0.068726</td>\n",
       "      <td>-0.167505</td>\n",
       "      <td>0.136346</td>\n",
       "      <td>-0.134233</td>\n",
       "      <td>-0.085575</td>\n",
       "      <td>...</td>\n",
       "      <td>0.447922</td>\n",
       "      <td>0.204643</td>\n",
       "      <td>0.203652</td>\n",
       "      <td>-0.106566</td>\n",
       "      <td>-0.113936</td>\n",
       "      <td>-0.135784</td>\n",
       "      <td>-0.186659</td>\n",
       "      <td>-0.102834</td>\n",
       "      <td>-0.102128</td>\n",
       "      <td>0</td>\n",
       "    </tr>\n",
       "    <tr>\n",
       "      <th>276704</th>\n",
       "      <td>-638686123</td>\n",
       "      <td>0.036879</td>\n",
       "      <td>0.606092</td>\n",
       "      <td>0.439262</td>\n",
       "      <td>1.316634</td>\n",
       "      <td>-0.068726</td>\n",
       "      <td>1.340722</td>\n",
       "      <td>-0.021890</td>\n",
       "      <td>-0.134883</td>\n",
       "      <td>-0.074402</td>\n",
       "      <td>...</td>\n",
       "      <td>-0.595477</td>\n",
       "      <td>0.204643</td>\n",
       "      <td>0.203652</td>\n",
       "      <td>0.003514</td>\n",
       "      <td>-0.092606</td>\n",
       "      <td>-0.135784</td>\n",
       "      <td>-0.101068</td>\n",
       "      <td>-0.102834</td>\n",
       "      <td>-0.102128</td>\n",
       "      <td>2</td>\n",
       "    </tr>\n",
       "  </tbody>\n",
       "</table>\n",
       "<p>276705 rows × 167 columns</p>\n",
       "</div>"
      ],
      "text/plain": [
       "                0         2         3         4         5         6         7  \\\n",
       "0       230425980 -0.056189 -0.175567 -1.185821 -0.186390 -0.046514 -0.167505   \n",
       "1         5530458 -0.056193 -0.175567 -1.185821 -0.186390 -0.046514 -0.167505   \n",
       "2       232022460 -0.056378 -0.175567 -1.185821 -0.186390 -0.046514 -0.167505   \n",
       "3       232438397  0.043005  0.743641 -0.644127  2.874647 -0.068726  2.304311   \n",
       "4       230460314  0.294595 -0.131268 -1.185821  0.125213  0.375512  0.188604   \n",
       "...           ...       ...       ...       ...       ...       ...       ...   \n",
       "276700  -80255194 -0.015471  0.043889  1.522650 -0.058083 -0.046514 -0.020871   \n",
       "276701 -229310245 -0.056634 -0.141863  0.980956 -0.149731 -0.068726 -0.125609   \n",
       "276702 -223754303 -0.056336 -0.119014  0.980956 -0.149731 -0.068726 -0.125609   \n",
       "276703 -625924180 -0.052898 -0.109119 -1.185821 -0.131401 -0.068726 -0.167505   \n",
       "276704 -638686123  0.036879  0.606092  0.439262  1.316634 -0.068726  1.340722   \n",
       "\n",
       "               8         9        10  ...       158       159       160  \\\n",
       "0      -0.101009 -0.133295 -0.088508  ... -0.582752  1.442895  1.440189   \n",
       "1      -0.101009 -0.133311 -0.088517  ...  0.702410 -1.033609 -1.032884   \n",
       "2      -0.101009 -0.133972 -0.088883  ...  0.467009 -1.033609 -1.032884   \n",
       "3       3.142835 -0.134902 -0.058112  ... -0.595477  0.204643  0.203652   \n",
       "4      -0.101009 -0.134776  0.033618  ... -0.380435  0.484856  0.546219   \n",
       "...          ...       ...       ...  ...       ...       ...       ...   \n",
       "276700 -0.101009 -0.134902 -0.015154  ... -0.302816  1.442895  1.440189   \n",
       "276701 -0.101009 -0.134903 -0.089391  ... -0.570028  0.204643  0.203652   \n",
       "276702 -0.101009 -0.134890 -0.088828  ... -0.595477  0.204643  0.203652   \n",
       "276703  0.136346 -0.134233 -0.085575  ...  0.447922  0.204643  0.203652   \n",
       "276704 -0.021890 -0.134883 -0.074402  ... -0.595477  0.204643  0.203652   \n",
       "\n",
       "             161       162       163       164       165       166  class  \n",
       "0       0.003514 -0.092606 -0.135784 -0.101068 -0.102834 -0.102128      2  \n",
       "1       0.003514 -0.092606 -0.135784 -0.101068 -0.102834 -0.102128      2  \n",
       "2      -0.106566 -0.113936 -0.135784 -0.186659 -0.102834 -0.102128      2  \n",
       "3       0.994235  0.099367 -0.135784  0.669253 -0.102834 -0.102128      1  \n",
       "4       0.003514  0.312670  0.369103  1.281230  0.201809  0.202687      2  \n",
       "...          ...       ...       ...       ...       ...       ...    ...  \n",
       "276700  0.003514 -0.092606 -0.135784 -0.101068 -0.102834 -0.102128      2  \n",
       "276701 -0.106566 -0.113936 -0.135784 -0.186659 -0.102834 -0.102128      0  \n",
       "276702  0.003514 -0.092606 -0.135784 -0.101068 -0.102834 -0.102128      2  \n",
       "276703 -0.106566 -0.113936 -0.135784 -0.186659 -0.102834 -0.102128      0  \n",
       "276704  0.003514 -0.092606 -0.135784 -0.101068 -0.102834 -0.102128      2  \n",
       "\n",
       "[276705 rows x 167 columns]"
      ]
     },
     "execution_count": 12,
     "metadata": {},
     "output_type": "execute_result"
    }
   ],
   "source": [
    "node_features_filepath = datasets_folder + 'elliptic_txs_features.csv'\n",
    "node_features_dataframe = pd.read_csv(node_features_filepath, sep=',', header=None)\n",
    "# node_features_dataframe\n",
    "node_features_dataframe_with_class = node_features_dataframe.copy()\n",
    "node_features_dataframe_with_class['class'] = classes_dataframe_after_remap['class']\n",
    "# node_features_dataframe_with_class\n",
    "node_features_dataframe_with_class_without_timestep = node_features_dataframe_with_class.drop(columns=[1])\n",
    "node_features_dataframe_with_class_without_timestep"
   ]
  },
  {
   "cell_type": "code",
   "execution_count": 13,
   "metadata": {},
   "outputs": [
    {
     "name": "stdout",
     "output_type": "stream",
     "text": [
      "36633\n",
      "131778\n"
     ]
    },
    {
     "data": {
      "text/html": [
       "<div>\n",
       "<style scoped>\n",
       "    .dataframe tbody tr th:only-of-type {\n",
       "        vertical-align: middle;\n",
       "    }\n",
       "\n",
       "    .dataframe tbody tr th {\n",
       "        vertical-align: top;\n",
       "    }\n",
       "\n",
       "    .dataframe thead th {\n",
       "        text-align: right;\n",
       "    }\n",
       "</style>\n",
       "<table border=\"1\" class=\"dataframe\">\n",
       "  <thead>\n",
       "    <tr style=\"text-align: right;\">\n",
       "      <th></th>\n",
       "      <th>0</th>\n",
       "      <th>1</th>\n",
       "    </tr>\n",
       "  </thead>\n",
       "  <tbody>\n",
       "    <tr>\n",
       "      <th>0</th>\n",
       "      <td>232344069</td>\n",
       "      <td>27553029</td>\n",
       "    </tr>\n",
       "    <tr>\n",
       "      <th>1</th>\n",
       "      <td>3881097</td>\n",
       "      <td>232457116</td>\n",
       "    </tr>\n",
       "    <tr>\n",
       "      <th>2</th>\n",
       "      <td>232051089</td>\n",
       "      <td>232470704</td>\n",
       "    </tr>\n",
       "    <tr>\n",
       "      <th>3</th>\n",
       "      <td>230473487</td>\n",
       "      <td>7089694</td>\n",
       "    </tr>\n",
       "    <tr>\n",
       "      <th>4</th>\n",
       "      <td>231182296</td>\n",
       "      <td>14660781</td>\n",
       "    </tr>\n",
       "    <tr>\n",
       "      <th>...</th>\n",
       "      <td>...</td>\n",
       "      <td>...</td>\n",
       "    </tr>\n",
       "    <tr>\n",
       "      <th>36628</th>\n",
       "      <td>-335492958</td>\n",
       "      <td>336712245</td>\n",
       "    </tr>\n",
       "    <tr>\n",
       "      <th>36629</th>\n",
       "      <td>-16565051</td>\n",
       "      <td>21440143</td>\n",
       "    </tr>\n",
       "    <tr>\n",
       "      <th>36630</th>\n",
       "      <td>-335493020</td>\n",
       "      <td>336712245</td>\n",
       "    </tr>\n",
       "    <tr>\n",
       "      <th>36631</th>\n",
       "      <td>-335493021</td>\n",
       "      <td>336712245</td>\n",
       "    </tr>\n",
       "    <tr>\n",
       "      <th>36632</th>\n",
       "      <td>-11300494</td>\n",
       "      <td>94174202</td>\n",
       "    </tr>\n",
       "  </tbody>\n",
       "</table>\n",
       "<p>36633 rows × 2 columns</p>\n",
       "</div>"
      ],
      "text/plain": [
       "               0          1\n",
       "0      232344069   27553029\n",
       "1        3881097  232457116\n",
       "2      232051089  232470704\n",
       "3      230473487    7089694\n",
       "4      231182296   14660781\n",
       "...          ...        ...\n",
       "36628 -335492958  336712245\n",
       "36629  -16565051   21440143\n",
       "36630 -335493020  336712245\n",
       "36631 -335493021  336712245\n",
       "36632  -11300494   94174202\n",
       "\n",
       "[36633 rows x 2 columns]"
      ]
     },
     "execution_count": 13,
     "metadata": {},
     "output_type": "execute_result"
    }
   ],
   "source": [
    "train_edges, test_edges = split_edges_into_train_and_test_IO(datasets_folder)\n",
    "print(len(train_edges))\n",
    "print(len(test_edges))\n",
    "train_edges"
   ]
  },
  {
   "cell_type": "code",
   "execution_count": 14,
   "metadata": {
    "colab": {
     "base_uri": "https://localhost:8080/",
     "height": 419
    },
    "id": "ZnFCZ_IASfNo",
    "outputId": "632f5d6e-b5e7-411a-ca86-e9409c1d957e"
   },
   "outputs": [],
   "source": [
    "# Splitting nodes into train and test\n",
    "train_node_features = node_features_dataframe_with_class_without_timestep[node_features_dataframe_with_class_without_timestep['class'] != 2]\n",
    "test_node_features = node_features_dataframe_with_class_without_timestep[node_features_dataframe_with_class_without_timestep['class'] == 2]\n",
    "# train_node_features\n",
    "train_node_features_without_class = train_node_features.drop(columns=['class'])\n",
    "test_node_features_without_class = test_node_features.drop(columns=['class'])"
   ]
  },
  {
   "cell_type": "code",
   "execution_count": 15,
   "metadata": {},
   "outputs": [],
   "source": [
    "def create_reindex_dict(node_features_without_class): \n",
    "    reindex_dictionary = dict()\n",
    "    for i, node_id in enumerate(node_features_without_class[0]):\n",
    "      reindex_dictionary[node_id] = i\n",
    "    return reindex_dictionary"
   ]
  },
  {
   "cell_type": "code",
   "execution_count": 16,
   "metadata": {},
   "outputs": [],
   "source": [
    "# # now we need to reindex the train nodes and train edges so that node id is equal to row id\n",
    "def reindex_edges(node_features_without_class, edges):\n",
    "    reindex_dictionary = create_reindex_dict(node_features_without_class)\n",
    "    edges_reindexed = edges.copy()\n",
    "    edges_reindexed[0] = edges[0].map(lambda node_id: reindex_dictionary[node_id])\n",
    "    edges_reindexed[1] = edges[1].map(lambda node_id: reindex_dictionary[node_id])\n",
    "    return edges_reindexed\n"
   ]
  },
  {
   "cell_type": "code",
   "execution_count": 17,
   "metadata": {
    "colab": {
     "base_uri": "https://localhost:8080/",
     "height": 419
    },
    "id": "4N7dBXL3Y8Ru",
    "outputId": "53c90ee4-8f69-425c-cada-4903c2097fe1"
   },
   "outputs": [],
   "source": [
    "train_edges_reindexed = reindex_edges(train_node_features_without_class, train_edges)\n"
   ]
  },
  {
   "cell_type": "code",
   "execution_count": 19,
   "metadata": {},
   "outputs": [],
   "source": [
    "test_edges_reindexed = reindex_edges(test_node_features_without_class, test_edges)\n",
    "# now we have test nodes & test edges which can be used to test the trained model"
   ]
  },
  {
   "cell_type": "code",
   "execution_count": 20,
   "metadata": {},
   "outputs": [],
   "source": [
    "def create_train_data_object(train_edges_reindexed, train_node_features_without_class, train_classes):\n",
    "    edge_index = torch.tensor(np.array(train_edges_reindexed), dtype=torch.long)\n",
    "    x = torch.tensor(np.array(train_node_features_without_class), dtype=torch.float)\n",
    "    y = torch.tensor(np.array(train_classes), dtype=torch.float)\n",
    "    data = Data(x=x, edge_index=edge_index.t().contiguous(), y=y)\n",
    "    data.validate(raise_on_error = True)\n",
    "    split = T.RandomNodeSplit(num_val=0.1, num_test=0)\n",
    "    data_with_masks = split(data)\n",
    "    return data_with_masks"
   ]
  },
  {
   "cell_type": "code",
   "execution_count": 21,
   "metadata": {},
   "outputs": [],
   "source": [
    "def create_test_data_object(test_edges_reindexed, test_node_features_without_class):\n",
    "    edge_index = torch.tensor(np.array(test_edges_reindexed), dtype=torch.long)\n",
    "    x = torch.tensor(np.array(test_node_features_without_class), dtype=torch.float)\n",
    "    data = Data(x=x, edge_index=edge_index.t().contiguous())\n",
    "    data.validate(raise_on_error = True)\n",
    "    return data"
   ]
  },
  {
   "cell_type": "code",
   "execution_count": 22,
   "metadata": {},
   "outputs": [
    {
     "data": {
      "text/plain": [
       "Data(x=[71496, 166], edge_index=[2, 36633], y=[71496], train_mask=[71496], val_mask=[71496], test_mask=[71496])"
      ]
     },
     "execution_count": 22,
     "metadata": {},
     "output_type": "execute_result"
    }
   ],
   "source": [
    "data_with_masks = create_train_data_object(train_edges_reindexed, train_node_features_without_class, train_node_features['class'])\n",
    "data_with_masks"
   ]
  },
  {
   "cell_type": "code",
   "execution_count": 23,
   "metadata": {},
   "outputs": [
    {
     "data": {
      "text/plain": [
       "Data(x=[205209, 166], edge_index=[2, 131778])"
      ]
     },
     "execution_count": 23,
     "metadata": {},
     "output_type": "execute_result"
    }
   ],
   "source": [
    "test_data_object = create_test_data_object(test_edges_reindexed, test_node_features_without_class)\n",
    "test_data_object"
   ]
  },
  {
   "cell_type": "code",
   "execution_count": null,
   "metadata": {},
   "outputs": [],
   "source": [
    "\n"
   ]
  },
  {
   "cell_type": "code",
   "execution_count": 24,
   "metadata": {},
   "outputs": [],
   "source": [
    "class Net(torch.nn.Module):\n",
    "    def __init__(self):\n",
    "        super(Net, self).__init__()\n",
    "        \n",
    "        self.hid = 8\n",
    "        self.in_head = 8\n",
    "        self.out_head = 1\n",
    "        self.conv1 = GATConv(data_with_masks.num_features, self.hid, heads = self.in_head)\n",
    "        self.conv2 = GATConv(self.hid * self.in_head, 1, concat=False, heads = self.out_head)\n",
    "\n",
    "    def forward(self, data):\n",
    "        x, edge_index = data.x, data.edge_index\n",
    "        x = F.dropout(x, p=0.6, training = self.training)\n",
    "        x = self.conv1(x, edge_index)\n",
    "        x = F.elu(x)\n",
    "        x = F.dropout(x, p=0.6, training = self.training)\n",
    "        x = self.conv2(x, edge_index)\n",
    "        return F.sigmoid(x)"
   ]
  },
  {
   "cell_type": "code",
   "execution_count": 25,
   "metadata": {},
   "outputs": [],
   "source": [
    "model = Net().to(device)\n",
    "data_in_device = data_with_masks.to(device)"
   ]
  },
  {
   "cell_type": "code",
   "execution_count": 26,
   "metadata": {},
   "outputs": [],
   "source": [
    "optimizer = torch.optim.Adam(model.parameters(), lr=0.01, weight_decay=1e-5)\n",
    "# scheduler = torch.optim.lr_scheduler.ReduceLROnPlateau(optimizer, 'min')\n",
    "criterion = torch.nn.BCELoss()"
   ]
  },
  {
   "cell_type": "code",
   "execution_count": 27,
   "metadata": {},
   "outputs": [
    {
     "name": "stdout",
     "output_type": "stream",
     "text": [
      "epoch: 0 - loss: 18.158447265625 - train_roc: 0.6056350145236995 - val_auc: 0.6104299283366112 - train_mse: 0.32462790608406067 - val_mse - 0.31897303462028503\n",
      "epoch: 5 - loss: 18.35112953186035 - train_roc: 0.6500756723483325 - val_auc: 0.656243866105284 - train_mse: 0.27164143323898315 - val_mse - 0.26500648260116577\n",
      "epoch: 10 - loss: 17.538257598876953 - train_roc: 0.6653208220524767 - val_auc: 0.663548156679332 - train_mse: 0.2554122507572174 - val_mse - 0.2530975043773651\n",
      "epoch: 15 - loss: 10.637168884277344 - train_roc: 0.7829379447517474 - val_auc: 0.7735316918435287 - train_mse: 0.18378448486328125 - val_mse - 0.18615685403347015\n",
      "epoch: 20 - loss: 5.010118007659912 - train_roc: 0.884152035157456 - val_auc: 0.8805028347530389 - train_mse: 0.12553651630878448 - val_mse - 0.12714853882789612\n",
      "epoch: 25 - loss: 4.499019622802734 - train_roc: 0.8949208280880121 - val_auc: 0.893724383880742 - train_mse: 0.1178918406367302 - val_mse - 0.11851329356431961\n",
      "epoch: 30 - loss: 4.392104625701904 - train_roc: 0.8988133086660108 - val_auc: 0.8963784104454622 - train_mse: 0.1147584468126297 - val_mse - 0.11684616655111313\n",
      "epoch: 35 - loss: 4.583439826965332 - train_roc: 0.8966578892916395 - val_auc: 0.899868190320698 - train_mse: 0.11555550247430801 - val_mse - 0.11279747635126114\n",
      "epoch: 40 - loss: 4.619332790374756 - train_roc: 0.8979077875991128 - val_auc: 0.9009242357573402 - train_mse: 0.11466793715953827 - val_mse - 0.11235260218381882\n",
      "epoch: 45 - loss: 4.072970867156982 - train_roc: 0.9060527477447916 - val_auc: 0.9057439739968361 - train_mse: 0.10805239528417587 - val_mse - 0.10851060599088669\n",
      "epoch: 50 - loss: 3.8172953128814697 - train_roc: 0.9097535309438676 - val_auc: 0.9069939479988717 - train_mse: 0.10514199733734131 - val_mse - 0.10664474219083786\n",
      "epoch: 55 - loss: 3.7635440826416016 - train_roc: 0.9103768943152555 - val_auc: 0.9121211121669174 - train_mse: 0.10431835055351257 - val_mse - 0.10196828842163086\n",
      "epoch: 60 - loss: 3.690911293029785 - train_roc: 0.9124466694896581 - val_auc: 0.9129548750082868 - train_mse: 0.10248902440071106 - val_mse - 0.10143772512674332\n",
      "epoch: 65 - loss: 3.664947032928467 - train_roc: 0.9134768497835586 - val_auc: 0.9131293457222299 - train_mse: 0.10142248123884201 - val_mse - 0.10125042498111725\n",
      "epoch: 70 - loss: 3.584907293319702 - train_roc: 0.9146582546451348 - val_auc: 0.9136677879372046 - train_mse: 0.10077729821205139 - val_mse - 0.10005819797515869\n",
      "epoch: 75 - loss: 3.589669942855835 - train_roc: 0.9147200623051495 - val_auc: 0.9112867399982582 - train_mse: 0.10014020651578903 - val_mse - 0.10007578879594803\n",
      "epoch: 80 - loss: 3.674185276031494 - train_roc: 0.9139042504996306 - val_auc: 0.9130848242082645 - train_mse: 0.10000313818454742 - val_mse - 0.1004539281129837\n",
      "epoch: 85 - loss: 3.6576170921325684 - train_roc: 0.9139990537879772 - val_auc: 0.9150789899400876 - train_mse: 0.10034467279911041 - val_mse - 0.09830716997385025\n",
      "epoch: 90 - loss: 3.5683507919311523 - train_roc: 0.9159672811185787 - val_auc: 0.9151731106954327 - train_mse: 0.09905066341161728 - val_mse - 0.09795425832271576\n",
      "epoch: 95 - loss: 3.633449077606201 - train_roc: 0.9150378911386574 - val_auc: 0.9138533077860004 - train_mse: 0.09951408207416534 - val_mse - 0.09934408217668533\n",
      "epoch: 100 - loss: 3.5562992095947266 - train_roc: 0.9166110420138659 - val_auc: 0.9186645154434407 - train_mse: 0.09810356050729752 - val_mse - 0.09375960379838943\n",
      "epoch: 105 - loss: 3.5667924880981445 - train_roc: 0.9156573224272426 - val_auc: 0.9241488672686928 - train_mse: 0.09836170822381973 - val_mse - 0.09280864149332047\n",
      "epoch: 110 - loss: 3.6442348957061768 - train_roc: 0.9148032800190617 - val_auc: 0.917129091917103 - train_mse: 0.09900421649217606 - val_mse - 0.09603506326675415\n",
      "epoch: 115 - loss: 3.4860293865203857 - train_roc: 0.9173621604737766 - val_auc: 0.9212130471434088 - train_mse: 0.09742491692304611 - val_mse - 0.09495384991168976\n",
      "epoch: 120 - loss: 3.4774975776672363 - train_roc: 0.9184900521537418 - val_auc: 0.9149613085295422 - train_mse: 0.09606863558292389 - val_mse - 0.09833250194787979\n",
      "epoch: 125 - loss: 3.4726648330688477 - train_roc: 0.9177189196662913 - val_auc: 0.916758295950427 - train_mse: 0.0967453271150589 - val_mse - 0.09671366959810257\n",
      "epoch: 130 - loss: 3.4771153926849365 - train_roc: 0.9193542457603627 - val_auc: 0.9175247890590166 - train_mse: 0.09512841701507568 - val_mse - 0.09546072781085968\n",
      "epoch: 135 - loss: 3.4497992992401123 - train_roc: 0.9185234243057719 - val_auc: 0.9176615221028195 - train_mse: 0.09626468271017075 - val_mse - 0.097434401512146\n",
      "epoch: 140 - loss: 3.400728940963745 - train_roc: 0.9191382740579794 - val_auc: 0.9209565203544562 - train_mse: 0.09582916647195816 - val_mse - 0.09201695770025253\n",
      "epoch: 145 - loss: 3.4395291805267334 - train_roc: 0.9194233981227324 - val_auc: 0.9165824847164468 - train_mse: 0.09529530256986618 - val_mse - 0.09748636931180954\n"
     ]
    },
    {
     "data": {
      "text/plain": [
       "Net(\n",
       "  (conv1): GATConv(166, 8, heads=8)\n",
       "  (conv2): GATConv(64, 1, heads=1)\n",
       ")"
      ]
     },
     "execution_count": 27,
     "metadata": {},
     "output_type": "execute_result"
    }
   ],
   "source": [
    "train_auc_values = list()\n",
    "val_auc_values = list()\n",
    "loss_values = list()\n",
    "train_mse_values = list()\n",
    "val_mse_values = list()\n",
    "\n",
    "epochs_amount = 150\n",
    "\n",
    "model.train()\n",
    "for epoch in range(epochs_amount):\n",
    "    optimizer.zero_grad()\n",
    "    # out = model(data_in_device.x, data_in_device.edge_index)\n",
    "    out = model(data_in_device)\n",
    "    out = out.reshape((data_in_device.x.shape[0]))\n",
    "    loss = criterion(out[data_in_device.train_mask], data_in_device.y[data_in_device.train_mask])\n",
    "    \n",
    "    with torch.no_grad():\n",
    "        loss_values.append(loss.item())\n",
    "    \n",
    "        train_auc = roc_auc_score(data_in_device.y[data_in_device.train_mask].cpu().numpy(), out[data_in_device.train_mask].cpu().numpy()) \n",
    "        train_auc_values.append(train_auc)\n",
    "        \n",
    "        val_auc = roc_auc_score(data_in_device.y[data_in_device.val_mask].detach().cpu().numpy(), out[data_in_device.val_mask].detach().cpu().numpy())\n",
    "        val_auc_values.append(val_auc)\n",
    "        \n",
    "        train_mean_squared_error_value = metrics.mean_squared_error(data_in_device.y[data_in_device.train_mask].detach().cpu().numpy(), out[data_in_device.train_mask].detach().cpu().numpy())\n",
    "        train_mse_values.append(train_mean_squared_error_value)\n",
    "        \n",
    "        val_mean_squared_error_value = metrics.mean_squared_error(data_in_device.y[data_in_device.val_mask].detach().cpu().numpy(), out[data_in_device.val_mask].detach().cpu().numpy())\n",
    "        val_mse_values.append(val_mean_squared_error_value)\n",
    "    \n",
    "        if epoch%5 == 0:\n",
    "            print(\"epoch: {} - loss: {} - train_roc: {} - val_auc: {} - train_mse: {} - val_mse - {}\".format(epoch, loss.item(), train_auc, val_auc, train_mean_squared_error_value, val_mean_squared_error_value))\n",
    "    loss.backward()\n",
    "    optimizer.step()\n",
    "    # scheduler.step(loss)\n",
    "\n",
    "model.eval()"
   ]
  },
  {
   "cell_type": "code",
   "execution_count": 28,
   "metadata": {},
   "outputs": [],
   "source": [
    "model_name = 'gnn_augmented_model'\n",
    "torch.save(model.state_dict(), model_name)"
   ]
  },
  {
   "cell_type": "code",
   "execution_count": 29,
   "metadata": {},
   "outputs": [],
   "source": [
    "# model.load_state_dict(torch.load(model_name))"
   ]
  },
  {
   "cell_type": "code",
   "execution_count": 30,
   "metadata": {},
   "outputs": [],
   "source": [
    "def show_loss(loss_values):\n",
    "    plt.plot(range(epochs_amount), loss_values, label='loss')\n",
    "    plt.title('loss based on BCELoss criterion')\n",
    "    plt.xlabel(\"epochs\")\n",
    "    plt.ylabel(\"loss\")\n",
    "    plt.legend()\n",
    "    plt.show()"
   ]
  },
  {
   "cell_type": "code",
   "execution_count": 31,
   "metadata": {},
   "outputs": [
    {
     "data": {
      "image/png": "[encoded data removed]",
      "text/plain": [
       "<Figure size 640x480 with 1 Axes>"
      ]
     },
     "metadata": {},
     "output_type": "display_data"
    }
   ],
   "source": [
    "show_loss(loss_values)"
   ]
  },
  {
   "cell_type": "code",
   "execution_count": 32,
   "metadata": {},
   "outputs": [],
   "source": [
    "def show_mse(train_mse_values, val_mse_values):\n",
    "    plt.plot(range(epochs_amount), train_mse_values, label= \"train\")\n",
    "    plt.plot(range(epochs_amount), val_mse_values, label= \"val\")\n",
    "    plt.xlabel(\"epochs\")\n",
    "    plt.ylabel(\"mean square error\")\n",
    "    plt.title(\"mean square error change as epochs progress\")\n",
    "    plt.legend()\n",
    "    plt.show()"
   ]
  },
  {
   "cell_type": "code",
   "execution_count": 33,
   "metadata": {},
   "outputs": [
    {
     "data": {
      "image/png": "[encoded data removed]",
      "text/plain": [
       "<Figure size 640x480 with 1 Axes>"
      ]
     },
     "metadata": {},
     "output_type": "display_data"
    }
   ],
   "source": [
    "show_mse(train_mse_values, val_mse_values)"
   ]
  },
  {
   "cell_type": "code",
   "execution_count": 34,
   "metadata": {},
   "outputs": [],
   "source": [
    "def show_auc_roc(train_auc_values, val_auc_values):\n",
    "    plt.plot(range(epochs_amount), train_auc_values, label= \"train\")\n",
    "    plt.plot(range(epochs_amount), val_auc_values, label= \"val\")\n",
    "    plt.xlabel(\"epochs\")\n",
    "    plt.ylabel(\"roc_auc_score\")\n",
    "    plt.title(\"AUC (Area Under The Curve) ROC (Receiver Operating Characteristics) change as epochs progress\")\n",
    "    plt.legend()\n",
    "    plt.show()"
   ]
  },
  {
   "cell_type": "code",
   "execution_count": 35,
   "metadata": {},
   "outputs": [
    {
     "data": {
      "image/png": "[encoded data removed]",
      "text/plain": [
       "<Figure size 640x480 with 1 Axes>"
      ]
     },
     "metadata": {},
     "output_type": "display_data"
    }
   ],
   "source": [
    "show_auc_roc(train_auc_values, val_auc_values)"
   ]
  },
  {
   "cell_type": "code",
   "execution_count": 38,
   "metadata": {
    "tags": []
   },
   "outputs": [],
   "source": [
    "val_output = model(data_in_device)"
   ]
  },
  {
   "cell_type": "code",
   "execution_count": 41,
   "metadata": {},
   "outputs": [],
   "source": [
    "def show_roc_curve(data_in_device, val_output):\n",
    "    fpr, tpr, thresholds = roc_curve(data_in_device.y[data_in_device.val_mask].detach().cpu().numpy(), val_output[data_in_device.val_mask].detach().cpu().numpy(), pos_label=1)\n",
    "    print(fpr)\n",
    "    print(tpr)\n",
    "    print(thresholds)\n",
    "    roc_auc = metrics.auc(fpr, tpr)\n",
    "    roc_curve_display = RocCurveDisplay(fpr=fpr, tpr=tpr, roc_auc=roc_auc)\n",
    "    roc_curve_display.plot()\n",
    "    plt.title(\"ROC curve\")\n",
    "    plt.show()"
   ]
  },
  {
   "cell_type": "code",
   "execution_count": 42,
   "metadata": {},
   "outputs": [
    {
     "name": "stdout",
     "output_type": "stream",
     "text": [
      "[0.         0.15685596 1.        ]\n",
      "[0. 1. 1.]\n",
      "[2. 1. 0.]\n"
     ]
    },
    {
     "data": {
      "image/png": "[encoded data removed]",
      "text/plain": [
       "<Figure size 640x480 with 1 Axes>"
      ]
     },
     "metadata": {},
     "output_type": "display_data"
    }
   ],
   "source": [
    "show_roc_curve(data_in_device, val_output)"
   ]
  },
  {
   "cell_type": "code",
   "execution_count": 43,
   "metadata": {},
   "outputs": [
    {
     "data": {
      "text/plain": [
       "0.063356645"
      ]
     },
     "execution_count": 43,
     "metadata": {},
     "output_type": "execute_result"
    }
   ],
   "source": [
    "mean_squared_error_value = metrics.mean_squared_error(data_in_device.y[data_in_device.val_mask].detach().cpu().numpy(), val_output[data_in_device.val_mask].detach().cpu().numpy())\n",
    "mean_squared_error_value"
   ]
  },
  {
   "cell_type": "code",
   "execution_count": 44,
   "metadata": {},
   "outputs": [],
   "source": [
    "def show_confusion_matrix(data_in_device, val_output, normalize=None):\n",
    "    \n",
    "    val_confusion_matrix = confusion_matrix(data_in_device.y[data_in_device.val_mask].detach().cpu().numpy(), val_output[data_in_device.val_mask].detach().cpu().numpy(), normalize=normalize)\n",
    "    confusion_matrix_display = ConfusionMatrixDisplay(val_confusion_matrix)\n",
    "    confusion_matrix_display.plot()\n",
    "    if normalize == None:\n",
    "        plt.title(\"0 is illicit, 1 is licit\")\n",
    "    else:\n",
    "        plt.title(\"0 is illicit, 1 is licit but in %\")\n",
    "    plt.show()\n"
   ]
  },
  {
   "cell_type": "code",
   "execution_count": 45,
   "metadata": {},
   "outputs": [
    {
     "data": {
      "image/png": "[encoded data removed]",
      "text/plain": [
       "<Figure size 640x480 with 2 Axes>"
      ]
     },
     "metadata": {},
     "output_type": "display_data"
    }
   ],
   "source": [
    "show_confusion_matrix(data_in_device, val_output)"
   ]
  },
  {
   "cell_type": "code",
   "execution_count": 46,
   "metadata": {},
   "outputs": [
    {
     "data": {
      "image/png": "[encoded data removed]",
      "text/plain": [
       "<Figure size 640x480 with 2 Axes>"
      ]
     },
     "metadata": {},
     "output_type": "display_data"
    }
   ],
   "source": [
    "show_confusion_matrix(data_in_device, val_output, 'true')"
   ]
  },
  {
   "cell_type": "code",
   "execution_count": 47,
   "metadata": {},
   "outputs": [],
   "source": [
    "# Mean Square Error"
   ]
  },
  {
   "cell_type": "code",
   "execution_count": 48,
   "metadata": {},
   "outputs": [],
   "source": [
    "# now testing the model on unlabeled dataset to see if proportions between predicted classes are as expected."
   ]
  },
  {
   "cell_type": "code",
   "execution_count": 49,
   "metadata": {
    "id": "pqpH1vKNZuKj"
   },
   "outputs": [
    {
     "data": {
      "text/plain": [
       "tensor([[1.],\n",
       "        [1.],\n",
       "        [1.],\n",
       "        ...,\n",
       "        [0.],\n",
       "        [0.],\n",
       "        [0.]], device='cuda:0', grad_fn=<SigmoidBackward0>)"
      ]
     },
     "execution_count": 49,
     "metadata": {},
     "output_type": "execute_result"
    }
   ],
   "source": [
    "test_data_in_device = test_data_object.to(device)\n",
    "test_output = model(test_data_in_device)\n",
    "test_output\n"
   ]
  },
  {
   "cell_type": "code",
   "execution_count": 50,
   "metadata": {},
   "outputs": [
    {
     "name": "stdout",
     "output_type": "stream",
     "text": [
      "amount_of_illicit_predicted_transactions=48004\n",
      "amount_of_licit_predicted_transactions=157205\n",
      "percent of predicted illicit transactions: 0.23%\n",
      "percent of predicted licit transactions: 0.77%\n"
     ]
    },
    {
     "data": {
      "image/png": "[encoded data removed]",
      "text/plain": [
       "<Figure size 640x480 with 1 Axes>"
      ]
     },
     "metadata": {},
     "output_type": "display_data"
    }
   ],
   "source": [
    "amount_of_all_test_samples = test_output.shape[0]\n",
    "amount_of_licit_predicted_transactions = test_output.count_nonzero().item()\n",
    "amount_of_illicit_predicted_transactions = amount_of_all_test_samples - amount_of_licit_predicted_transactions\n",
    "\n",
    "print(f'{amount_of_illicit_predicted_transactions=}')\n",
    "print(f'{amount_of_licit_predicted_transactions=}')\n",
    "\n",
    "\n",
    "print(f'percent of predicted illicit transactions: {round(amount_of_illicit_predicted_transactions/amount_of_all_test_samples, 2)}%')\n",
    "print(f'percent of predicted licit transactions: {round(amount_of_licit_predicted_transactions/amount_of_all_test_samples, 2)}%')\n",
    "x = ['illicit', 'licit']\n",
    "y = [amount_of_illicit_predicted_transactions, amount_of_licit_predicted_transactions]\n",
    "plt.bar(x, y)\n",
    "# plt.text(x=0, y= 0,s= 0)\n",
    "plt.text(x='illicit', y= amount_of_illicit_predicted_transactions * 1.1,s= amount_of_illicit_predicted_transactions)\n",
    "plt.text(x='licit', y= amount_of_licit_predicted_transactions * 1.1,s= amount_of_licit_predicted_transactions)\n",
    "plt.show()\n"
   ]
  },
  {
   "cell_type": "code",
   "execution_count": 51,
   "metadata": {},
   "outputs": [
    {
     "data": {
      "text/plain": [
       "torch.Size([205209, 166])"
      ]
     },
     "execution_count": 51,
     "metadata": {},
     "output_type": "execute_result"
    }
   ],
   "source": [
    "test_data_in_device.x.shape"
   ]
  },
  {
   "cell_type": "code",
   "execution_count": 52,
   "metadata": {},
   "outputs": [
    {
     "data": {
      "text/plain": [
       "torch.Size([166])"
      ]
     },
     "execution_count": 52,
     "metadata": {},
     "output_type": "execute_result"
    }
   ],
   "source": [
    "test_data_in_device.x[0].shape"
   ]
  },
  {
   "cell_type": "code",
   "execution_count": 53,
   "metadata": {
    "id": "cmzIerPHZuO_"
   },
   "outputs": [
    {
     "ename": "AttributeError",
     "evalue": "module 'numpy' has no attribute 'bool'.\n`np.bool` was a deprecated alias for the builtin `bool`. To avoid this error in existing code, use `bool` by itself. Doing this will not modify any behavior and is safe. If you specifically wanted the numpy scalar type, use `np.bool_` here.\nThe aliases was originally deprecated in NumPy 1.20; for more details and guidance see the original release note at:\n    https://numpy.org/devdocs/release/1.20.0-notes.html#deprecations",
     "output_type": "error",
     "traceback": [
      "\u001b[0;31m---------------------------------------------------------------------------\u001b[0m",
      "\u001b[0;31mAttributeError\u001b[0m                            Traceback (most recent call last)",
      "Cell \u001b[0;32mIn[53], line 5\u001b[0m\n\u001b[1;32m      1\u001b[0m \u001b[38;5;66;03m# explainer = shap.GradientExplainer(model, test_data_in_device.x)\u001b[39;00m\n\u001b[1;32m      2\u001b[0m \u001b[38;5;66;03m# shap_values = explainer(test_data_in_device.x)\u001b[39;00m\n\u001b[1;32m      4\u001b[0m explainer \u001b[38;5;241m=\u001b[39m shap\u001b[38;5;241m.\u001b[39mExplainer(model, test_data_in_device\u001b[38;5;241m.\u001b[39mx\u001b[38;5;241m.\u001b[39mreshape(test_data_in_device\u001b[38;5;241m.\u001b[39mx\u001b[38;5;241m.\u001b[39mshape[\u001b[38;5;241m0\u001b[39m], test_data_in_device\u001b[38;5;241m.\u001b[39mx\u001b[38;5;241m.\u001b[39mshape[\u001b[38;5;241m1\u001b[39m], \u001b[38;5;241m1\u001b[39m))\n\u001b[0;32m----> 5\u001b[0m shap_values \u001b[38;5;241m=\u001b[39m \u001b[43mexplainer\u001b[49m\u001b[43m(\u001b[49m\u001b[43mtest_data_in_device\u001b[49m\u001b[38;5;241;43m.\u001b[39;49m\u001b[43mx\u001b[49m\u001b[38;5;241;43m.\u001b[39;49m\u001b[43mreshape\u001b[49m\u001b[43m(\u001b[49m\u001b[43mtest_data_in_device\u001b[49m\u001b[38;5;241;43m.\u001b[39;49m\u001b[43mx\u001b[49m\u001b[38;5;241;43m.\u001b[39;49m\u001b[43mshape\u001b[49m\u001b[43m[\u001b[49m\u001b[38;5;241;43m0\u001b[39;49m\u001b[43m]\u001b[49m\u001b[43m,\u001b[49m\u001b[43m \u001b[49m\u001b[43mtest_data_in_device\u001b[49m\u001b[38;5;241;43m.\u001b[39;49m\u001b[43mx\u001b[49m\u001b[38;5;241;43m.\u001b[39;49m\u001b[43mshape\u001b[49m\u001b[43m[\u001b[49m\u001b[38;5;241;43m1\u001b[39;49m\u001b[43m]\u001b[49m\u001b[43m,\u001b[49m\u001b[43m \u001b[49m\u001b[38;5;241;43m1\u001b[39;49m\u001b[43m)\u001b[49m\u001b[43m)\u001b[49m\n",
      "File \u001b[0;32m~/miniconda3/envs/gnn_shap/lib/python3.10/site-packages/shap/explainers/_permutation.py:82\u001b[0m, in \u001b[0;36mPermutation.__call__\u001b[0;34m(self, max_evals, main_effects, error_bounds, batch_size, outputs, silent, *args)\u001b[0m\n\u001b[1;32m     78\u001b[0m \u001b[38;5;28;01mdef\u001b[39;00m \u001b[38;5;21m__call__\u001b[39m(\u001b[38;5;28mself\u001b[39m, \u001b[38;5;241m*\u001b[39margs, max_evals\u001b[38;5;241m=\u001b[39m\u001b[38;5;241m500\u001b[39m, main_effects\u001b[38;5;241m=\u001b[39m\u001b[38;5;28;01mFalse\u001b[39;00m, error_bounds\u001b[38;5;241m=\u001b[39m\u001b[38;5;28;01mFalse\u001b[39;00m, batch_size\u001b[38;5;241m=\u001b[39m\u001b[38;5;124m\"\u001b[39m\u001b[38;5;124mauto\u001b[39m\u001b[38;5;124m\"\u001b[39m,\n\u001b[1;32m     79\u001b[0m              outputs\u001b[38;5;241m=\u001b[39m\u001b[38;5;28;01mNone\u001b[39;00m, silent\u001b[38;5;241m=\u001b[39m\u001b[38;5;28;01mFalse\u001b[39;00m):\n\u001b[1;32m     80\u001b[0m \u001b[38;5;250m    \u001b[39m\u001b[38;5;124;03m\"\"\" Explain the output of the model on the given arguments.\u001b[39;00m\n\u001b[1;32m     81\u001b[0m \u001b[38;5;124;03m    \"\"\"\u001b[39;00m\n\u001b[0;32m---> 82\u001b[0m     \u001b[38;5;28;01mreturn\u001b[39;00m \u001b[38;5;28;43msuper\u001b[39;49m\u001b[43m(\u001b[49m\u001b[43m)\u001b[49m\u001b[38;5;241;43m.\u001b[39;49m\u001b[38;5;21;43m__call__\u001b[39;49m\u001b[43m(\u001b[49m\n\u001b[1;32m     83\u001b[0m \u001b[43m        \u001b[49m\u001b[38;5;241;43m*\u001b[39;49m\u001b[43margs\u001b[49m\u001b[43m,\u001b[49m\u001b[43m \u001b[49m\u001b[43mmax_evals\u001b[49m\u001b[38;5;241;43m=\u001b[39;49m\u001b[43mmax_evals\u001b[49m\u001b[43m,\u001b[49m\u001b[43m \u001b[49m\u001b[43mmain_effects\u001b[49m\u001b[38;5;241;43m=\u001b[39;49m\u001b[43mmain_effects\u001b[49m\u001b[43m,\u001b[49m\u001b[43m \u001b[49m\u001b[43merror_bounds\u001b[49m\u001b[38;5;241;43m=\u001b[39;49m\u001b[43merror_bounds\u001b[49m\u001b[43m,\u001b[49m\u001b[43m \u001b[49m\u001b[43mbatch_size\u001b[49m\u001b[38;5;241;43m=\u001b[39;49m\u001b[43mbatch_size\u001b[49m\u001b[43m,\u001b[49m\n\u001b[1;32m     84\u001b[0m \u001b[43m        \u001b[49m\u001b[43moutputs\u001b[49m\u001b[38;5;241;43m=\u001b[39;49m\u001b[43moutputs\u001b[49m\u001b[43m,\u001b[49m\u001b[43m \u001b[49m\u001b[43msilent\u001b[49m\u001b[38;5;241;43m=\u001b[39;49m\u001b[43msilent\u001b[49m\n\u001b[1;32m     85\u001b[0m \u001b[43m    \u001b[49m\u001b[43m)\u001b[49m\n",
      "File \u001b[0;32m~/miniconda3/envs/gnn_shap/lib/python3.10/site-packages/shap/explainers/_explainer.py:266\u001b[0m, in \u001b[0;36mExplainer.__call__\u001b[0;34m(self, max_evals, main_effects, error_bounds, batch_size, outputs, silent, *args, **kwargs)\u001b[0m\n\u001b[1;32m    264\u001b[0m     feature_names \u001b[38;5;241m=\u001b[39m [[] \u001b[38;5;28;01mfor\u001b[39;00m _ \u001b[38;5;129;01min\u001b[39;00m \u001b[38;5;28mrange\u001b[39m(\u001b[38;5;28mlen\u001b[39m(args))]\n\u001b[1;32m    265\u001b[0m \u001b[38;5;28;01mfor\u001b[39;00m row_args \u001b[38;5;129;01min\u001b[39;00m show_progress(\u001b[38;5;28mzip\u001b[39m(\u001b[38;5;241m*\u001b[39margs), num_rows, \u001b[38;5;28mself\u001b[39m\u001b[38;5;241m.\u001b[39m\u001b[38;5;18m__class__\u001b[39m\u001b[38;5;241m.\u001b[39m\u001b[38;5;18m__name__\u001b[39m\u001b[38;5;241m+\u001b[39m\u001b[38;5;124m\"\u001b[39m\u001b[38;5;124m explainer\u001b[39m\u001b[38;5;124m\"\u001b[39m, silent):\n\u001b[0;32m--> 266\u001b[0m     row_result \u001b[38;5;241m=\u001b[39m \u001b[38;5;28;43mself\u001b[39;49m\u001b[38;5;241;43m.\u001b[39;49m\u001b[43mexplain_row\u001b[49m\u001b[43m(\u001b[49m\n\u001b[1;32m    267\u001b[0m \u001b[43m        \u001b[49m\u001b[38;5;241;43m*\u001b[39;49m\u001b[43mrow_args\u001b[49m\u001b[43m,\u001b[49m\u001b[43m \u001b[49m\u001b[43mmax_evals\u001b[49m\u001b[38;5;241;43m=\u001b[39;49m\u001b[43mmax_evals\u001b[49m\u001b[43m,\u001b[49m\u001b[43m \u001b[49m\u001b[43mmain_effects\u001b[49m\u001b[38;5;241;43m=\u001b[39;49m\u001b[43mmain_effects\u001b[49m\u001b[43m,\u001b[49m\u001b[43m \u001b[49m\u001b[43merror_bounds\u001b[49m\u001b[38;5;241;43m=\u001b[39;49m\u001b[43merror_bounds\u001b[49m\u001b[43m,\u001b[49m\n\u001b[1;32m    268\u001b[0m \u001b[43m        \u001b[49m\u001b[43mbatch_size\u001b[49m\u001b[38;5;241;43m=\u001b[39;49m\u001b[43mbatch_size\u001b[49m\u001b[43m,\u001b[49m\u001b[43m \u001b[49m\u001b[43moutputs\u001b[49m\u001b[38;5;241;43m=\u001b[39;49m\u001b[43moutputs\u001b[49m\u001b[43m,\u001b[49m\u001b[43m \u001b[49m\u001b[43msilent\u001b[49m\u001b[38;5;241;43m=\u001b[39;49m\u001b[43msilent\u001b[49m\u001b[43m,\u001b[49m\u001b[43m \u001b[49m\u001b[38;5;241;43m*\u001b[39;49m\u001b[38;5;241;43m*\u001b[39;49m\u001b[43mkwargs\u001b[49m\n\u001b[1;32m    269\u001b[0m \u001b[43m    \u001b[49m\u001b[43m)\u001b[49m\n\u001b[1;32m    270\u001b[0m     values\u001b[38;5;241m.\u001b[39mappend(row_result\u001b[38;5;241m.\u001b[39mget(\u001b[38;5;124m\"\u001b[39m\u001b[38;5;124mvalues\u001b[39m\u001b[38;5;124m\"\u001b[39m, \u001b[38;5;28;01mNone\u001b[39;00m))\n\u001b[1;32m    271\u001b[0m     output_indices\u001b[38;5;241m.\u001b[39mappend(row_result\u001b[38;5;241m.\u001b[39mget(\u001b[38;5;124m\"\u001b[39m\u001b[38;5;124moutput_indices\u001b[39m\u001b[38;5;124m\"\u001b[39m, \u001b[38;5;28;01mNone\u001b[39;00m))\n",
      "File \u001b[0;32m~/miniconda3/envs/gnn_shap/lib/python3.10/site-packages/shap/explainers/_permutation.py:110\u001b[0m, in \u001b[0;36mPermutation.explain_row\u001b[0;34m(self, max_evals, main_effects, error_bounds, batch_size, outputs, silent, *row_args)\u001b[0m\n\u001b[1;32m    108\u001b[0m \u001b[38;5;66;03m# loop over many permutations\u001b[39;00m\n\u001b[1;32m    109\u001b[0m inds \u001b[38;5;241m=\u001b[39m fm\u001b[38;5;241m.\u001b[39mvarying_inputs()\n\u001b[0;32m--> 110\u001b[0m inds_mask \u001b[38;5;241m=\u001b[39m np\u001b[38;5;241m.\u001b[39mzeros(\u001b[38;5;28mlen\u001b[39m(fm), dtype\u001b[38;5;241m=\u001b[39m\u001b[43mnp\u001b[49m\u001b[38;5;241;43m.\u001b[39;49m\u001b[43mbool\u001b[49m)\n\u001b[1;32m    111\u001b[0m inds_mask[inds] \u001b[38;5;241m=\u001b[39m \u001b[38;5;28;01mTrue\u001b[39;00m\n\u001b[1;32m    112\u001b[0m masks \u001b[38;5;241m=\u001b[39m np\u001b[38;5;241m.\u001b[39mzeros(\u001b[38;5;241m2\u001b[39m\u001b[38;5;241m*\u001b[39m\u001b[38;5;28mlen\u001b[39m(inds)\u001b[38;5;241m+\u001b[39m\u001b[38;5;241m1\u001b[39m, dtype\u001b[38;5;241m=\u001b[39mnp\u001b[38;5;241m.\u001b[39mint)\n",
      "File \u001b[0;32m~/miniconda3/envs/gnn_shap/lib/python3.10/site-packages/numpy/__init__.py:305\u001b[0m, in \u001b[0;36m__getattr__\u001b[0;34m(attr)\u001b[0m\n\u001b[1;32m    300\u001b[0m     warnings\u001b[38;5;241m.\u001b[39mwarn(\n\u001b[1;32m    301\u001b[0m         \u001b[38;5;124mf\u001b[39m\u001b[38;5;124m\"\u001b[39m\u001b[38;5;124mIn the future `np.\u001b[39m\u001b[38;5;132;01m{\u001b[39;00mattr\u001b[38;5;132;01m}\u001b[39;00m\u001b[38;5;124m` will be defined as the \u001b[39m\u001b[38;5;124m\"\u001b[39m\n\u001b[1;32m    302\u001b[0m         \u001b[38;5;124m\"\u001b[39m\u001b[38;5;124mcorresponding NumPy scalar.\u001b[39m\u001b[38;5;124m\"\u001b[39m, \u001b[38;5;167;01mFutureWarning\u001b[39;00m, stacklevel\u001b[38;5;241m=\u001b[39m\u001b[38;5;241m2\u001b[39m)\n\u001b[1;32m    304\u001b[0m \u001b[38;5;28;01mif\u001b[39;00m attr \u001b[38;5;129;01min\u001b[39;00m __former_attrs__:\n\u001b[0;32m--> 305\u001b[0m     \u001b[38;5;28;01mraise\u001b[39;00m \u001b[38;5;167;01mAttributeError\u001b[39;00m(__former_attrs__[attr])\n\u001b[1;32m    307\u001b[0m \u001b[38;5;66;03m# Importing Tester requires importing all of UnitTest which is not a\u001b[39;00m\n\u001b[1;32m    308\u001b[0m \u001b[38;5;66;03m# cheap import Since it is mainly used in test suits, we lazy import it\u001b[39;00m\n\u001b[1;32m    309\u001b[0m \u001b[38;5;66;03m# here to save on the order of 10 ms of import time for most users\u001b[39;00m\n\u001b[1;32m    310\u001b[0m \u001b[38;5;66;03m#\u001b[39;00m\n\u001b[1;32m    311\u001b[0m \u001b[38;5;66;03m# The previous way Tester was imported also had a side effect of adding\u001b[39;00m\n\u001b[1;32m    312\u001b[0m \u001b[38;5;66;03m# the full `numpy.testing` namespace\u001b[39;00m\n\u001b[1;32m    313\u001b[0m \u001b[38;5;28;01mif\u001b[39;00m attr \u001b[38;5;241m==\u001b[39m \u001b[38;5;124m'\u001b[39m\u001b[38;5;124mtesting\u001b[39m\u001b[38;5;124m'\u001b[39m:\n",
      "\u001b[0;31mAttributeError\u001b[0m: module 'numpy' has no attribute 'bool'.\n`np.bool` was a deprecated alias for the builtin `bool`. To avoid this error in existing code, use `bool` by itself. Doing this will not modify any behavior and is safe. If you specifically wanted the numpy scalar type, use `np.bool_` here.\nThe aliases was originally deprecated in NumPy 1.20; for more details and guidance see the original release note at:\n    https://numpy.org/devdocs/release/1.20.0-notes.html#deprecations"
     ]
    }
   ],
   "source": [
    "# # explainer = shap.GradientExplainer(model, test_data_in_device.x)\n",
    "# # shap_values = explainer(test_data_in_device.x)\n",
    "\n",
    "# explainer = shap.Explainer(model, test_data_in_device.x.reshape(test_data_in_device.x.shape[0], test_data_in_device.x.shape[1], 1))\n",
    "# shap_values = explainer(test_data_in_device.x.reshape(test_data_in_device.x.shape[0], test_data_in_device.x.shape[1], 1))"
   ]
  },
  {
   "cell_type": "code",
   "execution_count": null,
   "metadata": {},
   "outputs": [],
   "source": []
  },
  {
   "cell_type": "code",
   "execution_count": null,
   "metadata": {},
   "outputs": [],
   "source": []
  }
 ],
 "metadata": {
  "accelerator": "GPU",
  "colab": {
   "gpuType": "T4",
   "provenance": []
  },
  "kernelspec": {
   "display_name": "Python 3 (ipykernel)",
   "language": "python",
   "name": "python3"
  },
  "language_info": {
   "codemirror_mode": {
    "name": "ipython",
    "version": 3
   },
   "file_extension": ".py",
   "mimetype": "text/x-python",
   "name": "python",
   "nbconvert_exporter": "python",
   "pygments_lexer": "ipython3",
   "version": "3.10.11"
  }
 },
 "nbformat": 4,
 "nbformat_minor": 4
}
